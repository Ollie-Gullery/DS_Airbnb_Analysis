{
 "cells": [
  {
   "cell_type": "markdown",
   "metadata": {},
   "source": [
    "# Applied Machine Learning \n",
    "\n",
    "### Personal Project\n",
    "\n",
    "HMWRK from CPSC330"
   ]
  },
  {
   "cell_type": "markdown",
   "metadata": {},
   "source": [
    "## Table of contents\n",
    "1. [Understanding the problem](#1)\n",
    "2. [Data splitting](#2)\n",
    "3. [EDA](#3)\n",
    "4. (Challenging) [Feature engineering](#4)\n",
    "5. [Preprocessing and transformations](#5) \n",
    "6. [Baseline model](#6)\n",
    "7. [Linear models](#7)\n",
    "8. [Different models](#8)\n",
    "9. (Challenging) [Feature selection](#9)\n",
    "10. [Hyperparameter optimization](#10)\n",
    "11. [Interpretation and feature importances](#11) \n",
    "12. [Results on the test set](#12)\n",
    "13. [Summary of the results](#13)\n",
    "14. (Challenging) [Your takeaway from the course](#15)"
   ]
  },
  {
   "cell_type": "markdown",
   "metadata": {},
   "source": [
    "## Imports"
   ]
  },
  {
   "cell_type": "code",
   "execution_count": null,
   "metadata": {
    "editable": true,
    "slideshow": {
     "slide_type": ""
    },
    "tags": []
   },
   "outputs": [
    {
     "name": "stdout",
     "output_type": "stream",
     "text": [
      "Collecting package metadata (current_repodata.json): done\n",
      "Solving environment: done\n",
      "\n",
      "# All requested packages already installed.\n",
      "\n"
     ]
    }
   ],
   "source": [
    "import matplotlib.pyplot as plt\n",
    "import numpy as np\n",
    "import pandas as pd\n",
    "import seaborn as sns\n",
    "from sklearn.dummy import DummyClassifier\n",
    "from sklearn.feature_extraction.text import CountVectorizer\n",
    "from sklearn.linear_model import LogisticRegression\n",
    "from sklearn.model_selection import (\n",
    "    GridSearchCV,\n",
    "    cross_val_score,\n",
    "    cross_validate,\n",
    "    train_test_split,\n",
    ")\n",
    "from sklearn.pipeline import Pipeline, make_pipeline\n",
    "from sklearn.tree import DecisionTreeClassifier"
   ]
  },
  {
   "cell_type": "markdown",
   "metadata": {
    "deletable": false,
    "editable": false
   },
   "source": [
    "<!-- BEGIN QUESTION -->\n",
    "\n"
   ]
  },
  {
   "cell_type": "code",
   "execution_count": null,
   "metadata": {
    "editable": true,
    "slideshow": {
     "slide_type": ""
    },
    "tags": []
   },
   "outputs": [],
   "source": [
    "print(\"hello\")"
   ]
  },
  {
   "cell_type": "markdown",
   "metadata": {},
   "source": [
    "<br><br>"
   ]
  },
  {
   "cell_type": "markdown",
   "metadata": {
    "deletable": false,
    "editable": false,
    "slideshow": {
     "slide_type": ""
    },
    "tags": []
   },
   "source": [
    "<!-- BEGIN QUESTION -->\n",
    "\n",
    "## 1. Pick your problem and explain the prediction problem <a name=\"1\"></a>\n",
    "<hr>\n",
    "rubric={points:3}\n",
    "\n",
    "In this assignment we'll be exploring a [dataset](https://www.kaggle.com/dgomonov/new-york-city-airbnb-open-data) of New York City Airbnb listings from 2019. As usual, you'll need to start by downloading the dataset. In this assignment we'll try to predict `reviews_per_month`, as a proxy for the popularity of the listing. Airbnb could use this sort of model to predict how popular future listings might be before they are posted, perhaps to help guide hosts create more appealing listings. In reality they might instead use something like vacancy rate or average rating as their target, but we do not have that available here.\n",
    "\n",
    "> Note there is an updated version of this dataset with more features available [here](http://insideairbnb.com/). The features were are using in `listings.csv.gz` for the New York city datasets. You will also see some other files like `reviews.csv.gz`. For your own interest you may want to explore the expanded dataset and try your analysis there. However, please submit your results on the dataset obtained from Kaggle.\n",
    "\n",
    "**Your tasks:**\n",
    "\n",
    "1. Spend some time understanding the problem and what each feature means. You can find this information in the documentation on. You can find an explaination of the features [here](https://docs.google.com/spreadsheets/d/1iWCNJcSutYqpULSQHlNyGInUvHg2BoUGoNRIGa6Szc4/edit).  Write a few sentences on your initial thoughts on the problem and the dataset. \n",
    "2. Download the dataset and read it as a pandas dataframe."
   ]
  },
  {
   "cell_type": "markdown",
   "metadata": {
    "deletable": false,
    "editable": false,
    "slideshow": {
     "slide_type": ""
    },
    "tags": []
   },
   "source": [
    "<div class=\"alert alert-warning\">\n",
    "    \n",
    "Solution_1\n",
    "    \n",
    "</div>\n",
    "\n",
    "_Points:_ 3"
   ]
  },
  {
   "cell_type": "markdown",
   "metadata": {},
   "source": [
    "#### Question 1\n",
    "In this data set we are going to help predict the popularity of a listing which is defined as `reviews_per_month`. There are 16 features which include both categorical and numeric features.\n",
    "\n",
    "Upon first inspection there are some features which could be dropped, this includes host name which would likely be redundant. Other features which could be dropped include id features which may cause over-fitting. More inspections needs to be done on other features which could be dropped.\n",
    "\n",
    "Input features which are of interest include `number_of_reviews`, this is likely to be highly correlated with `reviews_per_month`. `Price` may also be a feature of interest, generally speaking cheaper listings will attract more guests and have a higher turnover rate which could affect the popularity of the listing. \n",
    "\n",
    "*Ultimately, further research will need to be done to look at the importance of the features at hand.*\n",
    "\n",
    "\n"
   ]
  },
  {
   "cell_type": "code",
   "execution_count": null,
   "metadata": {
    "editable": true,
    "slideshow": {
     "slide_type": ""
    },
    "tags": []
   },
   "outputs": [
    {
     "data": {
      "text/html": [
       "<div>\n",
       "<style scoped>\n",
       "    .dataframe tbody tr th:only-of-type {\n",
       "        vertical-align: middle;\n",
       "    }\n",
       "\n",
       "    .dataframe tbody tr th {\n",
       "        vertical-align: top;\n",
       "    }\n",
       "\n",
       "    .dataframe thead th {\n",
       "        text-align: right;\n",
       "    }\n",
       "</style>\n",
       "<table border=\"1\" class=\"dataframe\">\n",
       "  <thead>\n",
       "    <tr style=\"text-align: right;\">\n",
       "      <th></th>\n",
       "      <th>id</th>\n",
       "      <th>name</th>\n",
       "      <th>host_id</th>\n",
       "      <th>host_name</th>\n",
       "      <th>neighbourhood_group</th>\n",
       "      <th>neighbourhood</th>\n",
       "      <th>latitude</th>\n",
       "      <th>longitude</th>\n",
       "      <th>room_type</th>\n",
       "      <th>price</th>\n",
       "      <th>minimum_nights</th>\n",
       "      <th>number_of_reviews</th>\n",
       "      <th>last_review</th>\n",
       "      <th>reviews_per_month</th>\n",
       "      <th>calculated_host_listings_count</th>\n",
       "      <th>availability_365</th>\n",
       "    </tr>\n",
       "  </thead>\n",
       "  <tbody>\n",
       "    <tr>\n",
       "      <th>0</th>\n",
       "      <td>2539</td>\n",
       "      <td>Clean &amp; quiet apt home by the park</td>\n",
       "      <td>2787</td>\n",
       "      <td>John</td>\n",
       "      <td>Brooklyn</td>\n",
       "      <td>Kensington</td>\n",
       "      <td>40.64749</td>\n",
       "      <td>-73.97237</td>\n",
       "      <td>Private room</td>\n",
       "      <td>149</td>\n",
       "      <td>1</td>\n",
       "      <td>9</td>\n",
       "      <td>2018-10-19</td>\n",
       "      <td>0.21</td>\n",
       "      <td>6</td>\n",
       "      <td>365</td>\n",
       "    </tr>\n",
       "    <tr>\n",
       "      <th>1</th>\n",
       "      <td>2595</td>\n",
       "      <td>Skylit Midtown Castle</td>\n",
       "      <td>2845</td>\n",
       "      <td>Jennifer</td>\n",
       "      <td>Manhattan</td>\n",
       "      <td>Midtown</td>\n",
       "      <td>40.75362</td>\n",
       "      <td>-73.98377</td>\n",
       "      <td>Entire home/apt</td>\n",
       "      <td>225</td>\n",
       "      <td>1</td>\n",
       "      <td>45</td>\n",
       "      <td>2019-05-21</td>\n",
       "      <td>0.38</td>\n",
       "      <td>2</td>\n",
       "      <td>355</td>\n",
       "    </tr>\n",
       "    <tr>\n",
       "      <th>2</th>\n",
       "      <td>3647</td>\n",
       "      <td>THE VILLAGE OF HARLEM....NEW YORK !</td>\n",
       "      <td>4632</td>\n",
       "      <td>Elisabeth</td>\n",
       "      <td>Manhattan</td>\n",
       "      <td>Harlem</td>\n",
       "      <td>40.80902</td>\n",
       "      <td>-73.94190</td>\n",
       "      <td>Private room</td>\n",
       "      <td>150</td>\n",
       "      <td>3</td>\n",
       "      <td>0</td>\n",
       "      <td>NaN</td>\n",
       "      <td>NaN</td>\n",
       "      <td>1</td>\n",
       "      <td>365</td>\n",
       "    </tr>\n",
       "  </tbody>\n",
       "</table>\n",
       "</div>"
      ],
      "text/plain": [
       "     id                                 name  host_id  host_name  \\\n",
       "0  2539   Clean & quiet apt home by the park     2787       John   \n",
       "1  2595                Skylit Midtown Castle     2845   Jennifer   \n",
       "2  3647  THE VILLAGE OF HARLEM....NEW YORK !     4632  Elisabeth   \n",
       "\n",
       "  neighbourhood_group neighbourhood  latitude  longitude        room_type  \\\n",
       "0            Brooklyn    Kensington  40.64749  -73.97237     Private room   \n",
       "1           Manhattan       Midtown  40.75362  -73.98377  Entire home/apt   \n",
       "2           Manhattan        Harlem  40.80902  -73.94190     Private room   \n",
       "\n",
       "   price  minimum_nights  number_of_reviews last_review  reviews_per_month  \\\n",
       "0    149               1                  9  2018-10-19               0.21   \n",
       "1    225               1                 45  2019-05-21               0.38   \n",
       "2    150               3                  0         NaN                NaN   \n",
       "\n",
       "   calculated_host_listings_count  availability_365  \n",
       "0                               6               365  \n",
       "1                               2               355  \n",
       "2                               1               365  "
      ]
     },
     "execution_count": 439,
     "metadata": {},
     "output_type": "execute_result"
    }
   ],
   "source": [
    "data = pd.read_csv(\"data/AB_NYC_2019.csv\")\n",
    "data.head(5)\n"
   ]
  },
  {
   "cell_type": "markdown",
   "metadata": {
    "deletable": false,
    "editable": false
   },
   "source": [
    "<!-- END QUESTION -->\n",
    "\n",
    "<br><br>"
   ]
  },
  {
   "cell_type": "markdown",
   "metadata": {
    "deletable": false,
    "editable": false
   },
   "source": [
    "<!-- BEGIN QUESTION -->\n",
    "\n",
    "## 2. Data splitting <a name=\"2\"></a>\n",
    "<hr>\n"
   ]
  },
  {
   "cell_type": "markdown",
   "metadata": {
    "deletable": false,
    "editable": false
   },
   "source": [
    "<div class=\"alert alert-warning\">\n",
    "    \n",
    "Solution_2\n",
    "    \n",
    "</div>\n",
    "\n",
    "_Points:_ 2"
   ]
  },
  {
   "cell_type": "code",
   "execution_count": 440,
   "metadata": {
    "tags": []
   },
   "outputs": [
    {
     "data": {
      "text/html": [
       "<div>\n",
       "<style scoped>\n",
       "    .dataframe tbody tr th:only-of-type {\n",
       "        vertical-align: middle;\n",
       "    }\n",
       "\n",
       "    .dataframe tbody tr th {\n",
       "        vertical-align: top;\n",
       "    }\n",
       "\n",
       "    .dataframe thead th {\n",
       "        text-align: right;\n",
       "    }\n",
       "</style>\n",
       "<table border=\"1\" class=\"dataframe\">\n",
       "  <thead>\n",
       "    <tr style=\"text-align: right;\">\n",
       "      <th></th>\n",
       "      <th>id</th>\n",
       "      <th>name</th>\n",
       "      <th>host_id</th>\n",
       "      <th>host_name</th>\n",
       "      <th>neighbourhood_group</th>\n",
       "      <th>neighbourhood</th>\n",
       "      <th>latitude</th>\n",
       "      <th>longitude</th>\n",
       "      <th>room_type</th>\n",
       "      <th>price</th>\n",
       "      <th>minimum_nights</th>\n",
       "      <th>number_of_reviews</th>\n",
       "      <th>last_review</th>\n",
       "      <th>reviews_per_month</th>\n",
       "      <th>calculated_host_listings_count</th>\n",
       "      <th>availability_365</th>\n",
       "    </tr>\n",
       "  </thead>\n",
       "  <tbody>\n",
       "    <tr>\n",
       "      <th>36150</th>\n",
       "      <td>28736148</td>\n",
       "      <td>Cozy 1 Bedroom Apt in Hamilton Heights</td>\n",
       "      <td>43431867</td>\n",
       "      <td>Tommy</td>\n",
       "      <td>Manhattan</td>\n",
       "      <td>Washington Heights</td>\n",
       "      <td>40.83256</td>\n",
       "      <td>-73.94440</td>\n",
       "      <td>Entire home/apt</td>\n",
       "      <td>96</td>\n",
       "      <td>4</td>\n",
       "      <td>0</td>\n",
       "      <td>NaN</td>\n",
       "      <td>NaN</td>\n",
       "      <td>1</td>\n",
       "      <td>17</td>\n",
       "    </tr>\n",
       "    <tr>\n",
       "      <th>45223</th>\n",
       "      <td>34613254</td>\n",
       "      <td>Amazing One Bedroom at the Time Square Area/72B</td>\n",
       "      <td>48146336</td>\n",
       "      <td>Irina</td>\n",
       "      <td>Manhattan</td>\n",
       "      <td>Hell's Kitchen</td>\n",
       "      <td>40.76134</td>\n",
       "      <td>-73.99299</td>\n",
       "      <td>Entire home/apt</td>\n",
       "      <td>150</td>\n",
       "      <td>30</td>\n",
       "      <td>0</td>\n",
       "      <td>NaN</td>\n",
       "      <td>NaN</td>\n",
       "      <td>20</td>\n",
       "      <td>332</td>\n",
       "    </tr>\n",
       "    <tr>\n",
       "      <th>14316</th>\n",
       "      <td>11144496</td>\n",
       "      <td>New Spacious Master, Williamsburg</td>\n",
       "      <td>48819868</td>\n",
       "      <td>Nick</td>\n",
       "      <td>Brooklyn</td>\n",
       "      <td>Williamsburg</td>\n",
       "      <td>40.71119</td>\n",
       "      <td>-73.95097</td>\n",
       "      <td>Private room</td>\n",
       "      <td>200</td>\n",
       "      <td>1</td>\n",
       "      <td>0</td>\n",
       "      <td>NaN</td>\n",
       "      <td>NaN</td>\n",
       "      <td>1</td>\n",
       "      <td>0</td>\n",
       "    </tr>\n",
       "  </tbody>\n",
       "</table>\n",
       "</div>"
      ],
      "text/plain": [
       "             id                                             name   host_id  \\\n",
       "36150  28736148           Cozy 1 Bedroom Apt in Hamilton Heights  43431867   \n",
       "45223  34613254  Amazing One Bedroom at the Time Square Area/72B  48146336   \n",
       "14316  11144496                New Spacious Master, Williamsburg  48819868   \n",
       "\n",
       "      host_name neighbourhood_group       neighbourhood  latitude  longitude  \\\n",
       "36150     Tommy           Manhattan  Washington Heights  40.83256  -73.94440   \n",
       "45223     Irina           Manhattan      Hell's Kitchen  40.76134  -73.99299   \n",
       "14316      Nick            Brooklyn        Williamsburg  40.71119  -73.95097   \n",
       "\n",
       "             room_type  price  minimum_nights  number_of_reviews last_review  \\\n",
       "36150  Entire home/apt     96               4                  0         NaN   \n",
       "45223  Entire home/apt    150              30                  0         NaN   \n",
       "14316     Private room    200               1                  0         NaN   \n",
       "\n",
       "       reviews_per_month  calculated_host_listings_count  availability_365  \n",
       "36150                NaN                               1                17  \n",
       "45223                NaN                              20               332  \n",
       "14316                NaN                               1                 0  "
      ]
     },
     "execution_count": 440,
     "metadata": {},
     "output_type": "execute_result"
    }
   ],
   "source": [
    "from sklearn.model_selection import train_test_split\n",
    "\n",
    "\n",
    "# Split the data into train and test sets\n",
    "train_df, test_df = train_test_split(data, test_size=0.3, random_state=123)\n",
    "\n",
    "# train_df contain 70% of the data for training\n",
    "# test_df will contain 30% of the data for testing\n",
    "train_df.head(3)"
   ]
  },
  {
   "cell_type": "markdown",
   "metadata": {
    "deletable": false,
    "editable": false
   },
   "source": [
    "<!-- END QUESTION -->\n",
    "\n",
    "<br><br>"
   ]
  },
  {
   "cell_type": "markdown",
   "metadata": {
    "deletable": false,
    "editable": false
   },
   "source": [
    "<!-- BEGIN QUESTION -->\n",
    "\n",
    "## 3. EDA <a name=\"3\"></a>\n",
    "<hr>\n",
    "rubric={points:10}\n",
    "\n",
    "**Your tasks:**\n",
    "\n",
    "1. Perform exploratory data analysis on the train set.\n",
    "2. Include at least two summary statistics and two visualizations that you find useful, and accompany each one with a sentence explaining it.\n",
    "3. Summarize your initial observations about the data. \n",
    "4. Pick appropriate metric/metrics for assessment. "
   ]
  },
  {
   "cell_type": "markdown",
   "metadata": {
    "deletable": false,
    "editable": false
   },
   "source": [
    "<div class=\"alert alert-warning\">\n",
    "    \n",
    "Solution_3\n",
    "    \n",
    "</div>\n",
    "\n",
    "_Points:_ 10"
   ]
  },
  {
   "cell_type": "markdown",
   "metadata": {},
   "source": [
    "## Summary of Initial Observations\n",
    "\n",
    "#### Visualization Analysis\n",
    "Our intital EDA found that lower priced listings tend to have a larger volume of reviews per month (`Visualization 1`). This makes sense as inexpensive listings will likely be more popular as they are more accesible to the wider population, leading to more reviews. \n",
    "\n",
    "`Visualization 4` found there are some differences in neighbourhood vs Reviews per month. Upon further assessment, we recognize the `neighbourhood group` is essentially a discretization of `longitude and latitude`. Neighbourhood groups is easier to interpret in comparison, this has prompted us to *drop the longitude and latitude columns.* Doing so will help reduce the dimensionality of the data, which will be beneficial for model training as it simplifies the model. In addition, geospatial coordinates may be too highly specific which could lead to over-fitting. Considering this information, we will omit them from our model. \n",
    "\n",
    "In terms of growth, `Visualization 7 & 8` indicated there is a clear growth trend which largely accelerated in 2019. The large growth in 2019 may suggest some external factors contributed to this rapid increase but we cannot be sure. `Visualization 9` was created to look at potential seasonal trends but found no clear evidence of linear trends as correlation was quite low. We can seperate last_review into year, month and day to obtain further information.\n",
    "\n",
    "Ultimately, number of reviews, price, availability 365 and calculated host listings seem to have the strongest correlation based on our heatmap in `Visualization 6` with number of reviews having the strongest correlation. \n",
    "\n",
    "\n",
    "#### Summary Statistics\n",
    "- The describe() function provides key summary statistics for numerical columns, including count, mean, standard deviation, minimum, and maximum. This helps us understand the central tendency and spread of our data.\n",
    "\n",
    "- train.dtypes tolds us that `last_review` had an object datatype, we can convert this with pd.to_datetime to help with the usability of the data.\n",
    "\n",
    "- train_info() and train.shape[0] tells us that we have 34226 rows and features like 'name' 'host_name' 'last_review' and 'reviews_per_month' have NaN values which need to be imputed.\n",
    "\n",
    "- Our correlation matrix tells us number of reviews has the highest correlation with reviews per month at `0.587901`\n",
    "\n",
    "- There are no duplicate IDs which suggests we don't have duplicate rows.\n",
    "\n",
    "\n",
    "### Appropriate Metrics\n",
    "As we will be performing regression, the metrics we will be using will be R-squared, which indicates the proportion of the variance in the dependent variable that is predictable from the independent variables. The reason why we chose this metric is because it provides a quick and interpretable measure of how well our model is capturing the variance in the data.\n",
    "\n",
    "Another metric we will be using is fit time. There is often a trade-off between model complexity, performance, and computational efficiency. This trade-off is navigated using the purpose of your analysis. For example, in real-time bidding systems, a model must be very fast, often at the expense of some accuracy, while in financial forecasting, accuracy is critical, potentially at the cost of longer computation times. We will aim for a model that is not too computationally expensive due to the nature of this assignment. "
   ]
  },
  {
   "cell_type": "markdown",
   "metadata": {},
   "source": [
    "### Summary Statistics"
   ]
  },
  {
   "cell_type": "code",
   "execution_count": 441,
   "metadata": {
    "tags": []
   },
   "outputs": [
    {
     "data": {
      "text/plain": [
       "(34226, 16)"
      ]
     },
     "execution_count": 441,
     "metadata": {},
     "output_type": "execute_result"
    }
   ],
   "source": [
    "train_df.shape"
   ]
  },
  {
   "cell_type": "code",
   "execution_count": 442,
   "metadata": {
    "tags": []
   },
   "outputs": [
    {
     "data": {
      "text/plain": [
       "Index(['id', 'name', 'host_id', 'host_name', 'neighbourhood_group',\n",
       "       'neighbourhood', 'latitude', 'longitude', 'room_type', 'price',\n",
       "       'minimum_nights', 'number_of_reviews', 'last_review',\n",
       "       'reviews_per_month', 'calculated_host_listings_count',\n",
       "       'availability_365'],\n",
       "      dtype='object')"
      ]
     },
     "execution_count": 442,
     "metadata": {},
     "output_type": "execute_result"
    }
   ],
   "source": [
    "train_df.columns\n",
    "# Original Columns:\n",
    "# Index(['id', 'name', 'host_id', 'host_name', 'neighbourhood_group',\n",
    "#        'neighbourhood', 'latitude', 'longitude', 'room_type', 'price',\n",
    "#        'minimum_nights', 'number_of_reviews', 'last_review',\n",
    "#        'reviews_per_month', 'calculated_host_listings_count',\n",
    "#        'availability_365'],\n",
    "#       dtype='object')"
   ]
  },
  {
   "cell_type": "code",
   "execution_count": 443,
   "metadata": {
    "tags": []
   },
   "outputs": [
    {
     "name": "stdout",
     "output_type": "stream",
     "text": [
      "<class 'pandas.core.frame.DataFrame'>\n",
      "Index: 34226 entries, 36150 to 15725\n",
      "Data columns (total 16 columns):\n",
      " #   Column                          Non-Null Count  Dtype  \n",
      "---  ------                          --------------  -----  \n",
      " 0   id                              34226 non-null  int64  \n",
      " 1   name                            34216 non-null  object \n",
      " 2   host_id                         34226 non-null  int64  \n",
      " 3   host_name                       34209 non-null  object \n",
      " 4   neighbourhood_group             34226 non-null  object \n",
      " 5   neighbourhood                   34226 non-null  object \n",
      " 6   latitude                        34226 non-null  float64\n",
      " 7   longitude                       34226 non-null  float64\n",
      " 8   room_type                       34226 non-null  object \n",
      " 9   price                           34226 non-null  int64  \n",
      " 10  minimum_nights                  34226 non-null  int64  \n",
      " 11  number_of_reviews               34226 non-null  int64  \n",
      " 12  last_review                     27236 non-null  object \n",
      " 13  reviews_per_month               27236 non-null  float64\n",
      " 14  calculated_host_listings_count  34226 non-null  int64  \n",
      " 15  availability_365                34226 non-null  int64  \n",
      "dtypes: float64(3), int64(7), object(6)\n",
      "memory usage: 4.4+ MB\n"
     ]
    }
   ],
   "source": [
    "train_df.info()"
   ]
  },
  {
   "cell_type": "code",
   "execution_count": 444,
   "metadata": {
    "tags": []
   },
   "outputs": [
    {
     "data": {
      "text/html": [
       "<div>\n",
       "<style scoped>\n",
       "    .dataframe tbody tr th:only-of-type {\n",
       "        vertical-align: middle;\n",
       "    }\n",
       "\n",
       "    .dataframe tbody tr th {\n",
       "        vertical-align: top;\n",
       "    }\n",
       "\n",
       "    .dataframe thead th {\n",
       "        text-align: right;\n",
       "    }\n",
       "</style>\n",
       "<table border=\"1\" class=\"dataframe\">\n",
       "  <thead>\n",
       "    <tr style=\"text-align: right;\">\n",
       "      <th></th>\n",
       "      <th>id</th>\n",
       "      <th>host_id</th>\n",
       "      <th>latitude</th>\n",
       "      <th>longitude</th>\n",
       "      <th>price</th>\n",
       "      <th>minimum_nights</th>\n",
       "      <th>number_of_reviews</th>\n",
       "      <th>reviews_per_month</th>\n",
       "      <th>calculated_host_listings_count</th>\n",
       "      <th>availability_365</th>\n",
       "    </tr>\n",
       "  </thead>\n",
       "  <tbody>\n",
       "    <tr>\n",
       "      <th>count</th>\n",
       "      <td>3.422600e+04</td>\n",
       "      <td>3.422600e+04</td>\n",
       "      <td>34226.000000</td>\n",
       "      <td>34226.000000</td>\n",
       "      <td>34226.000000</td>\n",
       "      <td>34226.000000</td>\n",
       "      <td>34226.000000</td>\n",
       "      <td>27236.000000</td>\n",
       "      <td>34226.000000</td>\n",
       "      <td>34226.000000</td>\n",
       "    </tr>\n",
       "    <tr>\n",
       "      <th>mean</th>\n",
       "      <td>1.893979e+07</td>\n",
       "      <td>6.726273e+07</td>\n",
       "      <td>40.729142</td>\n",
       "      <td>-73.952083</td>\n",
       "      <td>151.528399</td>\n",
       "      <td>7.094957</td>\n",
       "      <td>23.244814</td>\n",
       "      <td>1.369816</td>\n",
       "      <td>7.042453</td>\n",
       "      <td>112.526004</td>\n",
       "    </tr>\n",
       "    <tr>\n",
       "      <th>std</th>\n",
       "      <td>1.101332e+07</td>\n",
       "      <td>7.840511e+07</td>\n",
       "      <td>0.054531</td>\n",
       "      <td>0.046201</td>\n",
       "      <td>236.628392</td>\n",
       "      <td>21.548290</td>\n",
       "      <td>44.573323</td>\n",
       "      <td>1.700737</td>\n",
       "      <td>32.590803</td>\n",
       "      <td>131.420031</td>\n",
       "    </tr>\n",
       "    <tr>\n",
       "      <th>min</th>\n",
       "      <td>2.539000e+03</td>\n",
       "      <td>2.438000e+03</td>\n",
       "      <td>40.506410</td>\n",
       "      <td>-74.244420</td>\n",
       "      <td>0.000000</td>\n",
       "      <td>1.000000</td>\n",
       "      <td>0.000000</td>\n",
       "      <td>0.010000</td>\n",
       "      <td>1.000000</td>\n",
       "      <td>0.000000</td>\n",
       "    </tr>\n",
       "    <tr>\n",
       "      <th>25%</th>\n",
       "      <td>9.394482e+06</td>\n",
       "      <td>7.721897e+06</td>\n",
       "      <td>40.690193</td>\n",
       "      <td>-73.983030</td>\n",
       "      <td>69.000000</td>\n",
       "      <td>1.000000</td>\n",
       "      <td>1.000000</td>\n",
       "      <td>0.190000</td>\n",
       "      <td>1.000000</td>\n",
       "      <td>0.000000</td>\n",
       "    </tr>\n",
       "    <tr>\n",
       "      <th>50%</th>\n",
       "      <td>1.954546e+07</td>\n",
       "      <td>3.074526e+07</td>\n",
       "      <td>40.723240</td>\n",
       "      <td>-73.955550</td>\n",
       "      <td>106.000000</td>\n",
       "      <td>3.000000</td>\n",
       "      <td>5.000000</td>\n",
       "      <td>0.710000</td>\n",
       "      <td>1.000000</td>\n",
       "      <td>45.000000</td>\n",
       "    </tr>\n",
       "    <tr>\n",
       "      <th>75%</th>\n",
       "      <td>2.915085e+07</td>\n",
       "      <td>1.068375e+08</td>\n",
       "      <td>40.763287</td>\n",
       "      <td>-73.936270</td>\n",
       "      <td>175.000000</td>\n",
       "      <td>5.000000</td>\n",
       "      <td>23.000000</td>\n",
       "      <td>2.000000</td>\n",
       "      <td>2.000000</td>\n",
       "      <td>225.750000</td>\n",
       "    </tr>\n",
       "    <tr>\n",
       "      <th>max</th>\n",
       "      <td>3.648561e+07</td>\n",
       "      <td>2.743213e+08</td>\n",
       "      <td>40.912340</td>\n",
       "      <td>-73.712990</td>\n",
       "      <td>10000.000000</td>\n",
       "      <td>1250.000000</td>\n",
       "      <td>629.000000</td>\n",
       "      <td>58.500000</td>\n",
       "      <td>327.000000</td>\n",
       "      <td>365.000000</td>\n",
       "    </tr>\n",
       "  </tbody>\n",
       "</table>\n",
       "</div>"
      ],
      "text/plain": [
       "                 id       host_id      latitude     longitude         price  \\\n",
       "count  3.422600e+04  3.422600e+04  34226.000000  34226.000000  34226.000000   \n",
       "mean   1.893979e+07  6.726273e+07     40.729142    -73.952083    151.528399   \n",
       "std    1.101332e+07  7.840511e+07      0.054531      0.046201    236.628392   \n",
       "min    2.539000e+03  2.438000e+03     40.506410    -74.244420      0.000000   \n",
       "25%    9.394482e+06  7.721897e+06     40.690193    -73.983030     69.000000   \n",
       "50%    1.954546e+07  3.074526e+07     40.723240    -73.955550    106.000000   \n",
       "75%    2.915085e+07  1.068375e+08     40.763287    -73.936270    175.000000   \n",
       "max    3.648561e+07  2.743213e+08     40.912340    -73.712990  10000.000000   \n",
       "\n",
       "       minimum_nights  number_of_reviews  reviews_per_month  \\\n",
       "count    34226.000000       34226.000000       27236.000000   \n",
       "mean         7.094957          23.244814           1.369816   \n",
       "std         21.548290          44.573323           1.700737   \n",
       "min          1.000000           0.000000           0.010000   \n",
       "25%          1.000000           1.000000           0.190000   \n",
       "50%          3.000000           5.000000           0.710000   \n",
       "75%          5.000000          23.000000           2.000000   \n",
       "max       1250.000000         629.000000          58.500000   \n",
       "\n",
       "       calculated_host_listings_count  availability_365  \n",
       "count                    34226.000000      34226.000000  \n",
       "mean                         7.042453        112.526004  \n",
       "std                         32.590803        131.420031  \n",
       "min                          1.000000          0.000000  \n",
       "25%                          1.000000          0.000000  \n",
       "50%                          1.000000         45.000000  \n",
       "75%                          2.000000        225.750000  \n",
       "max                        327.000000        365.000000  "
      ]
     },
     "execution_count": 444,
     "metadata": {},
     "output_type": "execute_result"
    }
   ],
   "source": [
    "train_df.describe()"
   ]
  },
  {
   "cell_type": "code",
   "execution_count": 445,
   "metadata": {
    "tags": []
   },
   "outputs": [
    {
     "data": {
      "text/plain": [
       "count    27236.000000\n",
       "mean         1.369816\n",
       "std          1.700737\n",
       "min          0.010000\n",
       "25%          0.190000\n",
       "50%          0.710000\n",
       "75%          2.000000\n",
       "max         58.500000\n",
       "Name: reviews_per_month, dtype: float64"
      ]
     },
     "execution_count": 445,
     "metadata": {},
     "output_type": "execute_result"
    }
   ],
   "source": [
    "summary_statistics_reviews_per_month = train_df['reviews_per_month'].describe()\n",
    "summary_statistics_reviews_per_month\n"
   ]
  },
  {
   "cell_type": "code",
   "execution_count": 446,
   "metadata": {
    "tags": []
   },
   "outputs": [
    {
     "data": {
      "text/html": [
       "<div>\n",
       "<style scoped>\n",
       "    .dataframe tbody tr th:only-of-type {\n",
       "        vertical-align: middle;\n",
       "    }\n",
       "\n",
       "    .dataframe tbody tr th {\n",
       "        vertical-align: top;\n",
       "    }\n",
       "\n",
       "    .dataframe thead th {\n",
       "        text-align: right;\n",
       "    }\n",
       "</style>\n",
       "<table border=\"1\" class=\"dataframe\">\n",
       "  <thead>\n",
       "    <tr style=\"text-align: right;\">\n",
       "      <th></th>\n",
       "      <th>price</th>\n",
       "      <th>minimum_nights</th>\n",
       "      <th>number_of_reviews</th>\n",
       "      <th>calculated_host_listings_count</th>\n",
       "      <th>availability_365</th>\n",
       "      <th>reviews_per_month</th>\n",
       "    </tr>\n",
       "  </thead>\n",
       "  <tbody>\n",
       "    <tr>\n",
       "      <th>price</th>\n",
       "      <td>1.000000</td>\n",
       "      <td>0.031717</td>\n",
       "      <td>-0.047802</td>\n",
       "      <td>0.060032</td>\n",
       "      <td>0.085142</td>\n",
       "      <td>-0.033062</td>\n",
       "    </tr>\n",
       "    <tr>\n",
       "      <th>minimum_nights</th>\n",
       "      <td>0.031717</td>\n",
       "      <td>1.000000</td>\n",
       "      <td>-0.074642</td>\n",
       "      <td>0.123040</td>\n",
       "      <td>0.139341</td>\n",
       "      <td>-0.111594</td>\n",
       "    </tr>\n",
       "    <tr>\n",
       "      <th>number_of_reviews</th>\n",
       "      <td>-0.047802</td>\n",
       "      <td>-0.074642</td>\n",
       "      <td>1.000000</td>\n",
       "      <td>-0.071658</td>\n",
       "      <td>0.172544</td>\n",
       "      <td>0.548976</td>\n",
       "    </tr>\n",
       "    <tr>\n",
       "      <th>calculated_host_listings_count</th>\n",
       "      <td>0.060032</td>\n",
       "      <td>0.123040</td>\n",
       "      <td>-0.071658</td>\n",
       "      <td>1.000000</td>\n",
       "      <td>0.226027</td>\n",
       "      <td>-0.010565</td>\n",
       "    </tr>\n",
       "    <tr>\n",
       "      <th>availability_365</th>\n",
       "      <td>0.085142</td>\n",
       "      <td>0.139341</td>\n",
       "      <td>0.172544</td>\n",
       "      <td>0.226027</td>\n",
       "      <td>1.000000</td>\n",
       "      <td>0.187546</td>\n",
       "    </tr>\n",
       "    <tr>\n",
       "      <th>reviews_per_month</th>\n",
       "      <td>-0.033062</td>\n",
       "      <td>-0.111594</td>\n",
       "      <td>0.548976</td>\n",
       "      <td>-0.010565</td>\n",
       "      <td>0.187546</td>\n",
       "      <td>1.000000</td>\n",
       "    </tr>\n",
       "  </tbody>\n",
       "</table>\n",
       "</div>"
      ],
      "text/plain": [
       "                                   price  minimum_nights  number_of_reviews  \\\n",
       "price                           1.000000        0.031717          -0.047802   \n",
       "minimum_nights                  0.031717        1.000000          -0.074642   \n",
       "number_of_reviews              -0.047802       -0.074642           1.000000   \n",
       "calculated_host_listings_count  0.060032        0.123040          -0.071658   \n",
       "availability_365                0.085142        0.139341           0.172544   \n",
       "reviews_per_month              -0.033062       -0.111594           0.548976   \n",
       "\n",
       "                                calculated_host_listings_count  \\\n",
       "price                                                 0.060032   \n",
       "minimum_nights                                        0.123040   \n",
       "number_of_reviews                                    -0.071658   \n",
       "calculated_host_listings_count                        1.000000   \n",
       "availability_365                                      0.226027   \n",
       "reviews_per_month                                    -0.010565   \n",
       "\n",
       "                                availability_365  reviews_per_month  \n",
       "price                                   0.085142          -0.033062  \n",
       "minimum_nights                          0.139341          -0.111594  \n",
       "number_of_reviews                       0.172544           0.548976  \n",
       "calculated_host_listings_count          0.226027          -0.010565  \n",
       "availability_365                        1.000000           0.187546  \n",
       "reviews_per_month                       0.187546           1.000000  "
      ]
     },
     "execution_count": 446,
     "metadata": {},
     "output_type": "execute_result"
    }
   ],
   "source": [
    "numerical_variables = ['price', 'minimum_nights',\n",
    "                       'number_of_reviews', 'calculated_host_listings_count', \n",
    "                       'availability_365', 'reviews_per_month']\n",
    "\n",
    "\n",
    "correlation_matrix = train_df[numerical_variables].corr()\n",
    "\n",
    "# Correlation Matrix of Numerical Features\n",
    "correlation_matrix\n"
   ]
  },
  {
   "cell_type": "code",
   "execution_count": 447,
   "metadata": {
    "tags": []
   },
   "outputs": [
    {
     "name": "stdout",
     "output_type": "stream",
     "text": [
      "Name: id | Number of Duplicates: 0\n",
      "Name: name | Number of Duplicates: 563\n",
      "Name: host_id | Number of Duplicates: 6707\n",
      "Name: host_name | Number of Duplicates: 25024\n",
      "Name: neighbourhood_group | Number of Duplicates: 34221\n",
      "Name: neighbourhood | Number of Duplicates: 34008\n",
      "Name: latitude | Number of Duplicates: 17772\n",
      "Name: longitude | Number of Duplicates: 21275\n",
      "Name: room_type | Number of Duplicates: 34223\n",
      "Name: price | Number of Duplicates: 33614\n",
      "Name: minimum_nights | Number of Duplicates: 34127\n",
      "Name: number_of_reviews | Number of Duplicates: 33856\n",
      "Name: last_review | Number of Duplicates: 32549\n",
      "Name: reviews_per_month | Number of Duplicates: 33338\n",
      "Name: calculated_host_listings_count | Number of Duplicates: 34179\n",
      "Name: availability_365 | Number of Duplicates: 33860\n"
     ]
    }
   ],
   "source": [
    "for col in train_df.columns:\n",
    "    print(f'Name: {col} | Number of Duplicates: {train_df[col].duplicated().sum()}')"
   ]
  },
  {
   "cell_type": "markdown",
   "metadata": {
    "tags": []
   },
   "source": [
    "#### Visualization 1: Price v. Number of Reviews Coloured by Room Type\n",
    "- A scatterplot investigating price plotted against number of reviews coloured by one of three \n",
    "room types (Entire Home, Private Room, Shared Room)\n",
    "\n",
    "- We find that data with lower prices have more reviews, indicating that those looking for airbnbs\n",
    "prefer to find lower priced listings. "
   ]
  },
  {
   "cell_type": "code",
   "execution_count": 448,
   "metadata": {
    "tags": []
   },
   "outputs": [
    {
     "name": "stderr",
     "output_type": "stream",
     "text": [
      "/Users/OliverGullery/miniconda3/envs/cpsc330/lib/python3.10/site-packages/seaborn/_oldcore.py:1498: FutureWarning: is_categorical_dtype is deprecated and will be removed in a future version. Use isinstance(dtype, CategoricalDtype) instead\n",
      "  if pd.api.types.is_categorical_dtype(vector):\n",
      "/Users/OliverGullery/miniconda3/envs/cpsc330/lib/python3.10/site-packages/seaborn/_oldcore.py:1498: FutureWarning: is_categorical_dtype is deprecated and will be removed in a future version. Use isinstance(dtype, CategoricalDtype) instead\n",
      "  if pd.api.types.is_categorical_dtype(vector):\n",
      "/Users/OliverGullery/miniconda3/envs/cpsc330/lib/python3.10/site-packages/seaborn/_oldcore.py:1498: FutureWarning: is_categorical_dtype is deprecated and will be removed in a future version. Use isinstance(dtype, CategoricalDtype) instead\n",
      "  if pd.api.types.is_categorical_dtype(vector):\n",
      "/Users/OliverGullery/miniconda3/envs/cpsc330/lib/python3.10/site-packages/seaborn/_oldcore.py:1498: FutureWarning: is_categorical_dtype is deprecated and will be removed in a future version. Use isinstance(dtype, CategoricalDtype) instead\n",
      "  if pd.api.types.is_categorical_dtype(vector):\n",
      "/Users/OliverGullery/miniconda3/envs/cpsc330/lib/python3.10/site-packages/seaborn/_oldcore.py:1498: FutureWarning: is_categorical_dtype is deprecated and will be removed in a future version. Use isinstance(dtype, CategoricalDtype) instead\n",
      "  if pd.api.types.is_categorical_dtype(vector):\n"
     ]
    },
    {
     "data": {
      "image/png": "[encoded data removed]",
      "text/plain": [
       "<Figure size 640x480 with 1 Axes>"
      ]
     },
     "metadata": {},
     "output_type": "display_data"
    }
   ],
   "source": [
    "\n",
    "ax =sns.scatterplot(x='price',\n",
    "                y='number_of_reviews',\n",
    "                hue='room_type',\n",
    "                data=train_df)\n",
    "ax.set_title('Price vs. Number of Reviews')\n",
    "plt.show()\n"
   ]
  },
  {
   "cell_type": "markdown",
   "metadata": {},
   "source": [
    "#### Visualization 2: Price v. Reviews Per Month Coloured by Room Type\n",
    "\n",
    "- A scatterplot investigating price plotted against reviews per month coloured by one of three room types (Entire Home, Private Room, Shared Room)\n",
    "\n",
    "- We find that data with lower prices have more reviews per month,\n",
    "again, strengthing our hypothesis that lower prices get more reviews and are more popular"
   ]
  },
  {
   "cell_type": "code",
   "execution_count": 449,
   "metadata": {},
   "outputs": [
    {
     "name": "stderr",
     "output_type": "stream",
     "text": [
      "/Users/OliverGullery/miniconda3/envs/cpsc330/lib/python3.10/site-packages/seaborn/_oldcore.py:1498: FutureWarning: is_categorical_dtype is deprecated and will be removed in a future version. Use isinstance(dtype, CategoricalDtype) instead\n",
      "  if pd.api.types.is_categorical_dtype(vector):\n",
      "/Users/OliverGullery/miniconda3/envs/cpsc330/lib/python3.10/site-packages/seaborn/_oldcore.py:1498: FutureWarning: is_categorical_dtype is deprecated and will be removed in a future version. Use isinstance(dtype, CategoricalDtype) instead\n",
      "  if pd.api.types.is_categorical_dtype(vector):\n",
      "/Users/OliverGullery/miniconda3/envs/cpsc330/lib/python3.10/site-packages/seaborn/_oldcore.py:1498: FutureWarning: is_categorical_dtype is deprecated and will be removed in a future version. Use isinstance(dtype, CategoricalDtype) instead\n",
      "  if pd.api.types.is_categorical_dtype(vector):\n",
      "/Users/OliverGullery/miniconda3/envs/cpsc330/lib/python3.10/site-packages/seaborn/_oldcore.py:1498: FutureWarning: is_categorical_dtype is deprecated and will be removed in a future version. Use isinstance(dtype, CategoricalDtype) instead\n",
      "  if pd.api.types.is_categorical_dtype(vector):\n",
      "/Users/OliverGullery/miniconda3/envs/cpsc330/lib/python3.10/site-packages/seaborn/_oldcore.py:1498: FutureWarning: is_categorical_dtype is deprecated and will be removed in a future version. Use isinstance(dtype, CategoricalDtype) instead\n",
      "  if pd.api.types.is_categorical_dtype(vector):\n"
     ]
    },
    {
     "data": {
      "image/png": "[encoded data removed]",
      "text/plain": [
       "<Figure size 640x480 with 1 Axes>"
      ]
     },
     "metadata": {},
     "output_type": "display_data"
    }
   ],
   "source": [
    "ax =sns.scatterplot(x='price',\n",
    "                y='reviews_per_month',\n",
    "                hue='room_type',\n",
    "                data=train_df)\n",
    "ax.set_title('Price vs. Reviews Per Month')\n",
    "plt.show()"
   ]
  },
  {
   "cell_type": "markdown",
   "metadata": {},
   "source": [
    "#### Visuazation 3. Number of Reviews vs Reviews Per Month\n",
    "\n",
    "- A scatter plot of number of reviews against reviews per month\n",
    "\n",
    "- There is some evidence of a correlation between number of reviews per month and number of reviews. Listings with high number of reviews but low reviews per month may be older listings."
   ]
  },
  {
   "cell_type": "code",
   "execution_count": 450,
   "metadata": {},
   "outputs": [
    {
     "data": {
      "image/png": "[encoded data removed]",
      "text/plain": [
       "<Figure size 640x480 with 1 Axes>"
      ]
     },
     "metadata": {},
     "output_type": "display_data"
    }
   ],
   "source": [
    "train_df.plot(kind='scatter',\n",
    "        x='number_of_reviews',\n",
    "        y='reviews_per_month',\n",
    "        title='Number of Reviews vs Reviews Per Month')\n",
    "plt.show()"
   ]
  },
  {
   "cell_type": "markdown",
   "metadata": {},
   "source": [
    "#### Visuazation 4. Boxplot of Neighbourhood group vs Reviews Per Month With Outliers Removed\n",
    "\n",
    "- A boxplot with room type and reviews per month with outliers removed to help with the readability of the plots, from this graph we can infer that most areas median are similar with queens generally getting more reviews than other neighbourhoods.\n",
    "\n",
    "- These boxplots suggest there are some difference in reviews per months amongst different neighbourhood groups. "
   ]
  },
  {
   "cell_type": "code",
   "execution_count": 451,
   "metadata": {},
   "outputs": [
    {
     "name": "stderr",
     "output_type": "stream",
     "text": [
      "/Users/OliverGullery/miniconda3/envs/cpsc330/lib/python3.10/site-packages/seaborn/_oldcore.py:1498: FutureWarning: is_categorical_dtype is deprecated and will be removed in a future version. Use isinstance(dtype, CategoricalDtype) instead\n",
      "  if pd.api.types.is_categorical_dtype(vector):\n",
      "/Users/OliverGullery/miniconda3/envs/cpsc330/lib/python3.10/site-packages/seaborn/_oldcore.py:1498: FutureWarning: is_categorical_dtype is deprecated and will be removed in a future version. Use isinstance(dtype, CategoricalDtype) instead\n",
      "  if pd.api.types.is_categorical_dtype(vector):\n",
      "/Users/OliverGullery/miniconda3/envs/cpsc330/lib/python3.10/site-packages/seaborn/_oldcore.py:1498: FutureWarning: is_categorical_dtype is deprecated and will be removed in a future version. Use isinstance(dtype, CategoricalDtype) instead\n",
      "  if pd.api.types.is_categorical_dtype(vector):\n"
     ]
    },
    {
     "data": {
      "image/png": "[encoded data removed]",
      "text/plain": [
       "<Figure size 1000x600 with 1 Axes>"
      ]
     },
     "metadata": {},
     "output_type": "display_data"
    }
   ],
   "source": [
    "plt.figure(figsize=(10, 6))\n",
    "sns.boxplot(x='neighbourhood_group', y='reviews_per_month', data=train_df, showfliers=False)\n",
    "plt.title('Neighbourhood Group vs Reviews Per Month')\n",
    "plt.xticks(rotation=45)\n",
    "plt.show()"
   ]
  },
  {
   "cell_type": "markdown",
   "metadata": {},
   "source": [
    "#### Visuazation 5. Boxplot of Room Types vs Reviews Per Month With Outliers Removed\n",
    "\n",
    "- This is a Boxplot of Room Types vs Reviews Per Month With Outliers Removed for readability.\n",
    "\n",
    "- From this graph we can infer that room type may not have a large effect on our target variable."
   ]
  },
  {
   "cell_type": "code",
   "execution_count": 452,
   "metadata": {},
   "outputs": [
    {
     "name": "stderr",
     "output_type": "stream",
     "text": [
      "/Users/OliverGullery/miniconda3/envs/cpsc330/lib/python3.10/site-packages/seaborn/_oldcore.py:1498: FutureWarning: is_categorical_dtype is deprecated and will be removed in a future version. Use isinstance(dtype, CategoricalDtype) instead\n",
      "  if pd.api.types.is_categorical_dtype(vector):\n",
      "/Users/OliverGullery/miniconda3/envs/cpsc330/lib/python3.10/site-packages/seaborn/_oldcore.py:1498: FutureWarning: is_categorical_dtype is deprecated and will be removed in a future version. Use isinstance(dtype, CategoricalDtype) instead\n",
      "  if pd.api.types.is_categorical_dtype(vector):\n",
      "/Users/OliverGullery/miniconda3/envs/cpsc330/lib/python3.10/site-packages/seaborn/_oldcore.py:1498: FutureWarning: is_categorical_dtype is deprecated and will be removed in a future version. Use isinstance(dtype, CategoricalDtype) instead\n",
      "  if pd.api.types.is_categorical_dtype(vector):\n"
     ]
    },
    {
     "data": {
      "image/png": "[encoded data removed]",
      "text/plain": [
       "<Figure size 1000x600 with 1 Axes>"
      ]
     },
     "metadata": {},
     "output_type": "display_data"
    }
   ],
   "source": [
    "plt.figure(figsize=(10, 6))\n",
    "sns.boxplot(x='room_type', y='reviews_per_month', data=train_df, showfliers=False)\n",
    "plt.title('Room Type vs Reviews Per Month')\n",
    "plt.xticks(rotation=45)\n",
    "plt.show()"
   ]
  },
  {
   "cell_type": "markdown",
   "metadata": {},
   "source": [
    "#### Visuazation 6. Heatmap of Correlation matrix between all numerical Variables\n",
    "\n",
    "- A heatmap of the correlation between out different numerical variables\n",
    "\n",
    "- Reviews per month and number of reviews seem to have the strongest correlation as expected.\n",
    "\n",
    "- Reviews per month and availably 365 also have some correlation as rooms available 365 days of the year will likely have more reviews per month\n"
   ]
  },
  {
   "cell_type": "code",
   "execution_count": 453,
   "metadata": {},
   "outputs": [
    {
     "data": {
      "image/png": "[encoded data removed]",
      "text/plain": [
       "<Figure size 1000x600 with 2 Axes>"
      ]
     },
     "metadata": {},
     "output_type": "display_data"
    }
   ],
   "source": [
    "numerical_variables = ['price', 'minimum_nights', 'number_of_reviews', 'calculated_host_listings_count', 'availability_365', 'reviews_per_month']\n",
    "\n",
    "\n",
    "subset_data = train_df[numerical_variables]\n",
    "\n",
    "\n",
    "correlation_matrix = subset_data.corr()\n",
    "\n",
    "# heatmap of the correlation matrix\n",
    "plt.figure(figsize=(10, 6))\n",
    "sns.heatmap(correlation_matrix, annot=True, cmap='coolwarm', linewidths=0.5)\n",
    "plt.title('Correlation Matrix Heatmap')\n",
    "plt.show()\n"
   ]
  },
  {
   "cell_type": "markdown",
   "metadata": {},
   "source": [
    "#### Visualization 7. Reviews Per Month Over time\n",
    "\n",
    "- Lineplot of reviews per month over time\n",
    "\n",
    "- We converted last_review to pd datetime format for our graph\n",
    "\n",
    "- It seems reviews seem to increase a lot more in recent times, we should make note of the rapid accelerated increase in 2019, these may be caused by some externals factors but we cannot be sure. "
   ]
  },
  {
   "cell_type": "code",
   "execution_count": 454,
   "metadata": {},
   "outputs": [
    {
     "name": "stderr",
     "output_type": "stream",
     "text": [
      "/Users/OliverGullery/miniconda3/envs/cpsc330/lib/python3.10/site-packages/seaborn/_oldcore.py:1498: FutureWarning: is_categorical_dtype is deprecated and will be removed in a future version. Use isinstance(dtype, CategoricalDtype) instead\n",
      "  if pd.api.types.is_categorical_dtype(vector):\n",
      "/Users/OliverGullery/miniconda3/envs/cpsc330/lib/python3.10/site-packages/seaborn/_oldcore.py:1498: FutureWarning: is_categorical_dtype is deprecated and will be removed in a future version. Use isinstance(dtype, CategoricalDtype) instead\n",
      "  if pd.api.types.is_categorical_dtype(vector):\n",
      "/Users/OliverGullery/miniconda3/envs/cpsc330/lib/python3.10/site-packages/seaborn/_oldcore.py:1119: FutureWarning: use_inf_as_na option is deprecated and will be removed in a future version. Convert inf values to NaN before operating instead.\n",
      "  with pd.option_context('mode.use_inf_as_na', True):\n",
      "/Users/OliverGullery/miniconda3/envs/cpsc330/lib/python3.10/site-packages/seaborn/_oldcore.py:1119: FutureWarning: use_inf_as_na option is deprecated and will be removed in a future version. Convert inf values to NaN before operating instead.\n",
      "  with pd.option_context('mode.use_inf_as_na', True):\n"
     ]
    },
    {
     "data": {
      "image/png": "[encoded data removed]",
      "text/plain": [
       "<Figure size 1200x600 with 1 Axes>"
      ]
     },
     "metadata": {},
     "output_type": "display_data"
    }
   ],
   "source": [
    "train_df['last_review'] = pd.to_datetime(train_df['last_review'])\n",
    "\n",
    "plt.figure(figsize=(12, 6))\n",
    "sns.lineplot(x='last_review', y='reviews_per_month', data=train_df)\n",
    "plt.title('Reviews Per Month Over Time')\n",
    "plt.xlabel('Date')\n",
    "plt.ylabel('Reviews Per Month')\n",
    "plt.show()"
   ]
  },
  {
   "cell_type": "markdown",
   "metadata": {},
   "source": [
    "#### Visulisation 8. Reviews Per Month by year with outliers removed\n",
    "\n",
    "- A box plot of reviews per month by year with outliers removed\n",
    "\n",
    "- We see clear acclerated growth overtime, especially in the year 2019"
   ]
  },
  {
   "cell_type": "code",
   "execution_count": 455,
   "metadata": {},
   "outputs": [
    {
     "name": "stderr",
     "output_type": "stream",
     "text": [
      "/Users/OliverGullery/miniconda3/envs/cpsc330/lib/python3.10/site-packages/seaborn/_oldcore.py:1498: FutureWarning: is_categorical_dtype is deprecated and will be removed in a future version. Use isinstance(dtype, CategoricalDtype) instead\n",
      "  if pd.api.types.is_categorical_dtype(vector):\n",
      "/Users/OliverGullery/miniconda3/envs/cpsc330/lib/python3.10/site-packages/seaborn/_oldcore.py:1498: FutureWarning: is_categorical_dtype is deprecated and will be removed in a future version. Use isinstance(dtype, CategoricalDtype) instead\n",
      "  if pd.api.types.is_categorical_dtype(vector):\n",
      "/Users/OliverGullery/miniconda3/envs/cpsc330/lib/python3.10/site-packages/seaborn/_oldcore.py:1498: FutureWarning: is_categorical_dtype is deprecated and will be removed in a future version. Use isinstance(dtype, CategoricalDtype) instead\n",
      "  if pd.api.types.is_categorical_dtype(vector):\n"
     ]
    },
    {
     "data": {
      "image/png": "[encoded data removed]",
      "text/plain": [
       "<Figure size 1200x600 with 1 Axes>"
      ]
     },
     "metadata": {},
     "output_type": "display_data"
    }
   ],
   "source": [
    "plt.figure(figsize=(12, 6))\n",
    "sns.boxplot(x=train_df['last_review'].dt.year, y=train_df['reviews_per_month'], showfliers = False)\n",
    "plt.title('Reviews Per Month by Year')\n",
    "plt.xlabel('Year')\n",
    "plt.ylabel('Reviews Per Month')\n",
    "plt.show()"
   ]
  },
  {
   "cell_type": "markdown",
   "metadata": {},
   "source": [
    "#### Visulisation 9. Reviews Per Month vs one-year lagged reviews per month\n",
    "\n",
    "- We lagged reviews per month by 12 to see if the reviews of a previous month could predict the reviews of the next year in order to account for seasonal trends.\n",
    "\n",
    "- There seems to be no correlation between the lagged reviews per month and reviews in current month. This could indicate lack of seasonal trends (or at least no linear relationship) but you would need to look into the data further to discover more.\n",
    "\n",
    "- In order to extrapolate more information from last_review, we would separate it into year, month, and day and use them as three separate numerical features. "
   ]
  },
  {
   "cell_type": "code",
   "execution_count": 456,
   "metadata": {},
   "outputs": [
    {
     "name": "stderr",
     "output_type": "stream",
     "text": [
      "/Users/OliverGullery/miniconda3/envs/cpsc330/lib/python3.10/site-packages/seaborn/_oldcore.py:1498: FutureWarning: is_categorical_dtype is deprecated and will be removed in a future version. Use isinstance(dtype, CategoricalDtype) instead\n",
      "  if pd.api.types.is_categorical_dtype(vector):\n",
      "/Users/OliverGullery/miniconda3/envs/cpsc330/lib/python3.10/site-packages/seaborn/_oldcore.py:1498: FutureWarning: is_categorical_dtype is deprecated and will be removed in a future version. Use isinstance(dtype, CategoricalDtype) instead\n",
      "  if pd.api.types.is_categorical_dtype(vector):\n"
     ]
    },
    {
     "data": {
      "image/png": "[encoded data removed]",
      "text/plain": [
       "<Figure size 1200x600 with 1 Axes>"
      ]
     },
     "metadata": {},
     "output_type": "display_data"
    },
    {
     "name": "stdout",
     "output_type": "stream",
     "text": [
      "Correlation between Lagged Reviews and Current Reviews: -0.004679746851496089\n"
     ]
    }
   ],
   "source": [
    "train_df['lagged_reviews'] = train_df['reviews_per_month'].shift(12)\n",
    "plt.figure(figsize=(12, 6))\n",
    "sns.scatterplot(x='lagged_reviews', y='reviews_per_month', data=train_df)\n",
    "plt.title('Lagged Reviews Per Month')\n",
    "plt.xlabel('Reviews in Previous Year')\n",
    "plt.ylabel('Reviews in Current Month')\n",
    "plt.show()\n",
    "correlation = train_df['lagged_reviews'].corr(train_df['reviews_per_month'])\n",
    "print(\"Correlation between Lagged Reviews and Current Reviews:\", correlation)"
   ]
  },
  {
   "cell_type": "markdown",
   "metadata": {},
   "source": [
    "#### Visulisation 10. Reviews Per Month vs lagged reviews per month \n",
    "\n",
    "- We lagged reviews per month by 1 to see if the reviews of a previous month could predict the reviews of the next month\n",
    "\n",
    "- There seems to be no correlation between the lagged reviews per month and reviews in current month. "
   ]
  },
  {
   "cell_type": "code",
   "execution_count": 457,
   "metadata": {},
   "outputs": [
    {
     "name": "stderr",
     "output_type": "stream",
     "text": [
      "/Users/OliverGullery/miniconda3/envs/cpsc330/lib/python3.10/site-packages/seaborn/_oldcore.py:1498: FutureWarning: is_categorical_dtype is deprecated and will be removed in a future version. Use isinstance(dtype, CategoricalDtype) instead\n",
      "  if pd.api.types.is_categorical_dtype(vector):\n",
      "/Users/OliverGullery/miniconda3/envs/cpsc330/lib/python3.10/site-packages/seaborn/_oldcore.py:1498: FutureWarning: is_categorical_dtype is deprecated and will be removed in a future version. Use isinstance(dtype, CategoricalDtype) instead\n",
      "  if pd.api.types.is_categorical_dtype(vector):\n"
     ]
    },
    {
     "data": {
      "image/png": "[encoded data removed]",
      "text/plain": [
       "<Figure size 1200x600 with 1 Axes>"
      ]
     },
     "metadata": {},
     "output_type": "display_data"
    },
    {
     "name": "stdout",
     "output_type": "stream",
     "text": [
      "Correlation between Lagged Reviews and Current Reviews: -0.004180893595007159\n"
     ]
    }
   ],
   "source": [
    "train_df['lagged_reviews'] = train_df['reviews_per_month'].shift(1)\n",
    "plt.figure(figsize=(12, 6))\n",
    "sns.scatterplot(x='lagged_reviews', y='reviews_per_month', data=train_df)\n",
    "plt.title('Lagged Reviews Per Month')\n",
    "plt.xlabel('Reviews in Previous Month')\n",
    "plt.ylabel('Reviews in Current Month')\n",
    "plt.show()\n",
    "correlation = train_df['lagged_reviews'].corr(train_df['reviews_per_month'])\n",
    "print(\"Correlation between Lagged Reviews and Current Reviews:\", correlation)"
   ]
  },
  {
   "cell_type": "markdown",
   "metadata": {
    "deletable": false,
    "editable": false
   },
   "source": [
    "<!-- END QUESTION -->\n",
    "\n",
    "<br><br>"
   ]
  },
  {
   "cell_type": "code",
   "execution_count": null,
   "metadata": {},
   "outputs": [],
   "source": []
  },
  {
   "cell_type": "markdown",
   "metadata": {
    "deletable": false,
    "editable": false,
    "slideshow": {
     "slide_type": ""
    },
    "tags": []
   },
   "source": [
    "<!-- BEGIN QUESTION -->\n",
    "\n",
    "## (Challenging) 4. Feature engineering <a name=\"4\"></a>\n",
    "<hr>\n",
    "rubric={points:1}\n",
    "\n",
    "**Your tasks:**\n",
    "\n",
    "1. Carry out feature engineering. In other words, extract new features relevant for the problem and work with your new feature set in the following exercises. You may have to go back and forth between feature engineering and preprocessing. "
   ]
  },
  {
   "cell_type": "markdown",
   "metadata": {
    "deletable": false,
    "editable": false
   },
   "source": [
    "<div class=\"alert alert-warning\">\n",
    "    \n",
    "Solution_4\n",
    "    \n",
    "</div>\n",
    "\n",
    "_Points:_ 1"
   ]
  },
  {
   "cell_type": "code",
   "execution_count": 458,
   "metadata": {},
   "outputs": [],
   "source": [
    "\n",
    "X = data.drop('reviews_per_month', axis=1)  \n",
    "y = data['reviews_per_month']\n",
    "\n",
    "X_train, X_test, y_train, y_test = train_test_split(X, y, test_size=0.3, random_state=123)\n",
    "\n"
   ]
  },
  {
   "cell_type": "markdown",
   "metadata": {},
   "source": [
    "#### Seperating last_review into Separate Numerical Features\n",
    "\n",
    "- Note: We converted train_df['last_review'] to pd datetime format earlier on."
   ]
  },
  {
   "cell_type": "code",
   "execution_count": 459,
   "metadata": {},
   "outputs": [],
   "source": [
    "# Convert the 'last_review' column to a datetime data type\n",
    "X_train['last_review'] = pd.to_datetime(X_train['last_review'])\n",
    "X_test['last_review'] = pd.to_datetime(X_test['last_review'])\n",
    "\n",
    "# Extract year, month, and day into new columns\n",
    "X_train['review_year'] = X_train['last_review'].dt.year\n",
    "X_train['review_month'] = X_train['last_review'].dt.month\n",
    "X_train['review_day'] = X_train['last_review'].dt.day\n",
    "\n",
    "X_test['review_year'] = X_test['last_review'].dt.year\n",
    "X_test['review_month'] = X_test['last_review'].dt.month\n",
    "X_test['review_day'] = X_test['last_review'].dt.day\n"
   ]
  },
  {
   "cell_type": "markdown",
   "metadata": {},
   "source": [
    "### Feature discretization"
   ]
  },
  {
   "cell_type": "markdown",
   "metadata": {},
   "source": [
    "#### Price Category\n",
    "\n",
    "- Through discretizting price into different categories it can help with out decision tree model."
   ]
  },
  {
   "cell_type": "code",
   "execution_count": 460,
   "metadata": {},
   "outputs": [
    {
     "name": "stdout",
     "output_type": "stream",
     "text": [
      "<class 'pandas.core.series.Series'>\n",
      "Index: 34226 entries, 36150 to 15725\n",
      "Series name: price_category\n",
      "Non-Null Count  Dtype   \n",
      "--------------  -----   \n",
      "34226 non-null  category\n",
      "dtypes: category(1)\n",
      "memory usage: 301.2 KB\n"
     ]
    }
   ],
   "source": [
    "X_train['price_category'] = pd.cut(\n",
    "    X_train['price'],\n",
    "    bins=[-float('inf'), 50, 100, 150, 200, 250, 300, 350, float('inf')],\n",
    "    labels=['0-50', '50-100', '100-150', '150-200', '200-250', '250-300', '300-350', '350+'],\n",
    "    include_lowest=True\n",
    ")\n",
    "\n",
    "X_test['price_category'] = pd.cut(\n",
    "    X_test['price'],\n",
    "    bins=[-float('inf'), 50, 100, 150, 200, 250, 300, 350, float('inf')],\n",
    "    labels=['0-50', '50-100', '100-150', '150-200', '200-250', '250-300', '300-350', '350+'],\n",
    "    include_lowest=True\n",
    ")\n",
    "\n",
    "X_train['price_category'].info()"
   ]
  },
  {
   "cell_type": "markdown",
   "metadata": {},
   "source": [
    "#### Minimum Nights Category\n",
    "\n",
    "Minimum nights are mostly concentrated amongst lower ranges, thus, we decided that creating bins up to 30 in increments of 5 would provide more insight as opposed to treating the data like a continuous variable. "
   ]
  },
  {
   "cell_type": "code",
   "execution_count": 461,
   "metadata": {},
   "outputs": [
    {
     "name": "stdout",
     "output_type": "stream",
     "text": [
      "<class 'pandas.core.series.Series'>\n",
      "Index: 14669 entries, 29122 to 6162\n",
      "Series name: minimum_nights_category\n",
      "Non-Null Count  Dtype   \n",
      "--------------  -----   \n",
      "14669 non-null  category\n",
      "dtypes: category(1)\n",
      "memory usage: 129.3 KB\n"
     ]
    }
   ],
   "source": [
    "X_train['minimum_nights_category'] = pd.cut(\n",
    "    X_train['minimum_nights'],\n",
    "    bins=[0, 5, 10, 15, 20, 25, 30, float('inf')],\n",
    "    labels=['0-5', '5-10', '10-15', '15-20', '20-25', '25-30', '30+']\n",
    ")\n",
    "\n",
    "X_test['minimum_nights_category'] = pd.cut(\n",
    "    X_test['minimum_nights'],\n",
    "    bins=[0, 5, 10, 15, 20, 25, 30, float('inf')],\n",
    "    labels=['0-5', '5-10', '10-15', '15-20', '20-25', '25-30', '30+']\n",
    ")\n",
    "\n",
    "\n",
    "X_test['minimum_nights_category'].info()"
   ]
  },
  {
   "cell_type": "markdown",
   "metadata": {},
   "source": [
    "#### Superhost (Calculated host listings count > threshold)\n",
    "A host with many properties might be more experienced, we can create a binary indicator using a threshold, for this sceanrio I will use a threshold of 5.\n",
    "\n"
   ]
  },
  {
   "cell_type": "code",
   "execution_count": 462,
   "metadata": {},
   "outputs": [
    {
     "data": {
      "text/plain": [
       "Index(['id', 'name', 'host_id', 'host_name', 'neighbourhood_group',\n",
       "       'neighbourhood', 'latitude', 'longitude', 'room_type', 'price',\n",
       "       'minimum_nights', 'number_of_reviews', 'last_review',\n",
       "       'calculated_host_listings_count', 'availability_365', 'review_year',\n",
       "       'review_month', 'review_day', 'price_category',\n",
       "       'minimum_nights_category', 'is_superhost'],\n",
       "      dtype='object')"
      ]
     },
     "execution_count": 462,
     "metadata": {},
     "output_type": "execute_result"
    }
   ],
   "source": [
    "threshold = 5\n",
    "X_train['is_superhost'] = X_train['calculated_host_listings_count'] > threshold\n",
    "\n",
    "X_test['is_superhost'] = X_test['calculated_host_listings_count'] > threshold\n",
    "\n",
    "\n",
    "X_train.columns\n"
   ]
  },
  {
   "cell_type": "markdown",
   "metadata": {},
   "source": [
    "#### Null Values in y_train and y_test\n",
    "\n",
    "- As we can see there are reviews per month put null values any time `review_per_month` was 0, thus we can impute zero into null values in this column"
   ]
  },
  {
   "cell_type": "code",
   "execution_count": 463,
   "metadata": {},
   "outputs": [
    {
     "data": {
      "text/plain": [
       "0"
      ]
     },
     "execution_count": 463,
     "metadata": {},
     "output_type": "execute_result"
    }
   ],
   "source": [
    "np.isnan(y_train).sum()\n",
    "# Filling in Reviews_per_month null values\n",
    "y_train = np.where(np.isnan(y_train), 0, y_train)\n",
    "y_test = np.where(np.isnan(y_train), 0, y_train)\n",
    "np.isnan(y_train).sum()"
   ]
  },
  {
   "cell_type": "code",
   "execution_count": 464,
   "metadata": {},
   "outputs": [],
   "source": [
    "# y_train = SimpleImputer(strategy='constant', fill_value=0)\n",
    "\n",
    "\n",
    "# y_train = y_imputer.fit_transform(y.values.reshape(-1, 1))\n",
    "\n",
    "\n",
    "# y_train = y_imputed.ravel()"
   ]
  },
  {
   "cell_type": "markdown",
   "metadata": {
    "deletable": false,
    "editable": false
   },
   "source": [
    "<!-- END QUESTION -->\n",
    "\n",
    "<br><br>"
   ]
  },
  {
   "cell_type": "markdown",
   "metadata": {
    "deletable": false,
    "editable": false
   },
   "source": [
    "<!-- BEGIN QUESTION -->\n",
    "\n",
    "## 5. Preprocessing and transformations <a name=\"5\"></a>\n",
    "<hr>\n",
    "rubric={points:10}\n",
    "\n",
    "**Your tasks:**\n",
    "\n",
    "1. Identify any data cleaning that needs to be done and perform it.\n",
    "2. Identify different feature types and the transformations you would apply on each feature type. \n",
    "3. Define a column transformer, if necessary.\n",
    "4. You have likely noticed the `number_of_reviews` feature will be higly informative for the target `reviews_per_month`. To make this assignment more interesting **drop** the `number_of_reviews` feature."
   ]
  },
  {
   "cell_type": "markdown",
   "metadata": {
    "deletable": false,
    "editable": false
   },
   "source": [
    "<div class=\"alert alert-warning\">\n",
    "    \n",
    "Solution_5\n",
    "    \n",
    "</div>\n",
    "\n",
    "_Points:_ 10"
   ]
  },
  {
   "cell_type": "markdown",
   "metadata": {},
   "source": [
    "_Type your answer here, replacing this text._"
   ]
  },
  {
   "cell_type": "markdown",
   "metadata": {
    "tags": []
   },
   "source": [
    "#### List of our Features"
   ]
  },
  {
   "cell_type": "code",
   "execution_count": 465,
   "metadata": {
    "tags": []
   },
   "outputs": [],
   "source": [
    "numerical_features = ['price', \n",
    "                   'minimum_nights', \n",
    "                   'calculated_host_listings_count',\n",
    "                   'availability_365',\n",
    "                  'review_year',\n",
    "                    'review_month', \n",
    "                      'review_day',]\n",
    "\n",
    "categorical_features = ['neighbourhood_group', \n",
    "                     'neighbourhood',\n",
    "                     'room_type']\n",
    "\n",
    "ordinal_features = ['price_category', \n",
    "                 'minimum_nights_category']\n",
    "\n",
    "binary_features = ['is_superhost']\n",
    "\n",
    "# text_data = ['name'] # took too long for count vectorizer\n",
    "\n",
    "drop_features = ['number_of_reviews', \n",
    "                 'host_id', 'id',\n",
    "                 'last_review',\n",
    "                 'host_name','latitude', 'longitude', 'name']\n",
    "\n",
    "target = ['reviews_per_month']\n"
   ]
  },
  {
   "cell_type": "code",
   "execution_count": 466,
   "metadata": {},
   "outputs": [],
   "source": [
    "from sklearn.preprocessing import FunctionTransformer\n",
    "from sklearn.compose import make_column_transformer\n",
    "from sklearn.preprocessing import OneHotEncoder, StandardScaler, FunctionTransformer\n",
    "from sklearn.pipeline import Pipeline\n",
    "from sklearn.impute import SimpleImputer\n",
    "from sklearn.preprocessing import OrdinalEncoder\n",
    "\n",
    "\n",
    "# Transformer for binary features: convert boolean to numeric then apply imputation\n",
    "def bool_to_numeric(x):\n",
    "    # Convert boolean to int (True to 1, False to 0)\n",
    "    return x.astype(int)\n",
    "\n",
    "binary_transformer = Pipeline(steps=[\n",
    "    ('convert_to_numeric', FunctionTransformer(bool_to_numeric)),\n",
    "    ('imputer', SimpleImputer(strategy='most_frequent')),  # Now imputer can handle it because it's numeric\n",
    "    # No need to encode since it's already in binary (0/1) format\n",
    "])\n"
   ]
  },
  {
   "cell_type": "code",
   "execution_count": 467,
   "metadata": {
    "tags": []
   },
   "outputs": [],
   "source": [
    "price_category_ordering = ['0-50',\n",
    "                           '50-100', \n",
    "                           '100-150', \n",
    "                           '150-200',\n",
    "                           '200-250', \n",
    "                           '250-300', \n",
    "                           '300-350', \n",
    "                           '350+']\n",
    " \n",
    "minimum_nights_category_ordering = ['0-5',\n",
    "                                    '5-10', \n",
    "                                    '10-15', \n",
    "                                    '15-20',\n",
    "                                    '20-25', \n",
    "                                    '25-30', \n",
    "                                    '30+']\n",
    "\n",
    "ordinal_transformer = Pipeline(steps=[\n",
    "    ('imputer', SimpleImputer(strategy='constant', fill_value='missing')),  # To handle missing values\n",
    "    ('ordinal', OrdinalEncoder(categories=[price_category_ordering, \n",
    "                                           minimum_nights_category_ordering]))\n",
    "])\n",
    "\n",
    "\n",
    "\n",
    "# Create the column transformer\n",
    "ct = make_column_transformer(\n",
    "    ('drop', drop_features), \n",
    "    (StandardScaler(), numerical_features),  \n",
    "    (OneHotEncoder(handle_unknown=\"ignore\"), categorical_features),  \n",
    "    (ordinal_transformer, ordinal_features),  \n",
    "    (binary_transformer, binary_features),\n",
    "    remainder='passthrough'  \n",
    ")\n"
   ]
  },
  {
   "cell_type": "code",
   "execution_count": 468,
   "metadata": {},
   "outputs": [],
   "source": [
    "from sklearn.impute import SimpleImputer\n",
    "\n",
    "freq_imputer = SimpleImputer(strategy='most_frequent')\n",
    "\n",
    "X_train[['review_month', 'review_day']] = freq_imputer.fit_transform(X_train[['review_month', 'review_day']])\n",
    "X_test[['review_month', 'review_day']] = freq_imputer.fit_transform(X_test[['review_month', 'review_day']])"
   ]
  },
  {
   "cell_type": "code",
   "execution_count": 469,
   "metadata": {},
   "outputs": [],
   "source": [
    "def random_impute_year(df, column_name):\n",
    "    # Randomly choose a year based on the distribution of the existing years\n",
    "    probs = df[column_name].value_counts(normalize=True)\n",
    "    missing = df[column_name].isna()\n",
    "    imputed_years = np.random.choice(probs.index, size=missing.sum(), p=probs.values)\n",
    "    df.loc[missing, column_name] = imputed_years\n",
    "    return df\n",
    "\n",
    "X_train = random_impute_year(X_train, 'review_year')\n",
    "X_test = random_impute_year(X_test, 'review_year')"
   ]
  },
  {
   "cell_type": "code",
   "execution_count": null,
   "metadata": {},
   "outputs": [],
   "source": []
  },
  {
   "cell_type": "markdown",
   "metadata": {
    "deletable": false,
    "editable": false
   },
   "source": [
    "<!-- END QUESTION -->\n",
    "\n",
    "<br><br>"
   ]
  },
  {
   "cell_type": "markdown",
   "metadata": {
    "deletable": false,
    "editable": false
   },
   "source": [
    "<!-- BEGIN QUESTION -->\n",
    "\n",
    "## 6. Baseline model <a name=\"6\"></a>\n",
    "<hr>\n",
    "rubric={points:2}\n",
    "\n",
    "**Your tasks:**\n",
    "1. Try `scikit-learn`'s baseline model and report results."
   ]
  },
  {
   "cell_type": "markdown",
   "metadata": {
    "deletable": false,
    "editable": false
   },
   "source": [
    "<div class=\"alert alert-warning\">\n",
    "    \n",
    "Solution_6\n",
    "    \n",
    "</div>\n",
    "\n",
    "_Points:_ 2"
   ]
  },
  {
   "cell_type": "code",
   "execution_count": 470,
   "metadata": {
    "tags": []
   },
   "outputs": [],
   "source": [
    "from sklearn.dummy import DummyRegressor #import regressor\n",
    "\n",
    "reg = DummyRegressor() # Create a classifier object\n",
    "\n"
   ]
  },
  {
   "cell_type": "code",
   "execution_count": 471,
   "metadata": {
    "tags": []
   },
   "outputs": [
    {
     "data": {
      "text/plain": [
       "'Test Score is: 0.0'"
      ]
     },
     "execution_count": 471,
     "metadata": {},
     "output_type": "execute_result"
    }
   ],
   "source": [
    "from sklearn.pipeline import Pipeline, make_pipeline\n",
    "\n",
    "pipe = make_pipeline(ct, reg)\n",
    "pipe.fit(X_train,y_train)\n",
    "pipe.predict(X_train)\n",
    "f'Test Score is: {pipe.score(X_train,y_train)}'"
   ]
  },
  {
   "cell_type": "markdown",
   "metadata": {
    "deletable": false,
    "editable": false
   },
   "source": [
    "<!-- END QUESTION -->\n",
    "\n"
   ]
  },
  {
   "cell_type": "markdown",
   "metadata": {
    "deletable": false,
    "editable": false
   },
   "source": [
    "<!-- BEGIN QUESTION -->\n",
    "\n",
    "## 7. Linear models <a name=\"7\"></a>\n",
    "<hr>\n",
    "rubric={points:10}\n",
    "\n",
    "**Your tasks:**\n",
    "\n",
    "1. Try a linear model as a first real attempt. \n",
    "2. Carry out hyperparameter tuning to explore different values for the complexity hyperparameter. \n",
    "3. Report cross-validation scores along with standard deviation. \n",
    "4. Summarize your results."
   ]
  },
  {
   "cell_type": "markdown",
   "metadata": {
    "deletable": false,
    "editable": false
   },
   "source": [
    "<div class=\"alert alert-warning\">\n",
    "    \n",
    "Solution_7\n",
    "    \n",
    "</div>\n",
    "\n",
    "_Points:_ 10"
   ]
  },
  {
   "cell_type": "markdown",
   "metadata": {},
   "source": [
    "#### Data Summary"
   ]
  },
  {
   "cell_type": "markdown",
   "metadata": {},
   "source": [
    "Ridge() regression model trained and scored quickly, but the test and train scores suggest that the model is not very accurate or that the score metric is quite low.\n",
    "And at different strength of regularization (Alpha) we see that the test score is at the highest at alpha = 10 but is still low. Our results are stored in `results_df` with our best score being a test score of 0.246 with a train score of 0.254. \n",
    "\n",
    "Since this is a linear model and the data is showing a low score, the model and the features we are choosing might not be a linearly fit data. This makes sense as we introduced new categorical variables and ordinal variables which should work better with decision trees. "
   ]
  },
  {
   "cell_type": "code",
   "execution_count": 472,
   "metadata": {
    "tags": []
   },
   "outputs": [
    {
     "name": "stderr",
     "output_type": "stream",
     "text": [
      "/var/folders/fy/1_r80v9j3s39nw5nw46_dw800000gq/T/ipykernel_54585/924811516.py:13: FutureWarning: Series.__getitem__ treating keys as positions is deprecated. In a future version, integer keys will always be treated as labels (consistent with DataFrame behavior). To access a value by position, use `ser.iloc[pos]`\n",
      "  out_col.append((f\"%0.3f (+/- %0.3f)\" % (mean_scores[i], std_scores[i])))\n"
     ]
    },
    {
     "data": {
      "text/html": [
       "<div>\n",
       "<style scoped>\n",
       "    .dataframe tbody tr th:only-of-type {\n",
       "        vertical-align: middle;\n",
       "    }\n",
       "\n",
       "    .dataframe tbody tr th {\n",
       "        vertical-align: top;\n",
       "    }\n",
       "\n",
       "    .dataframe thead th {\n",
       "        text-align: right;\n",
       "    }\n",
       "</style>\n",
       "<table border=\"1\" class=\"dataframe\">\n",
       "  <thead>\n",
       "    <tr style=\"text-align: right;\">\n",
       "      <th></th>\n",
       "      <th>0</th>\n",
       "    </tr>\n",
       "  </thead>\n",
       "  <tbody>\n",
       "    <tr>\n",
       "      <th>fit_time</th>\n",
       "      <td>0.231 (+/- 0.013)</td>\n",
       "    </tr>\n",
       "    <tr>\n",
       "      <th>score_time</th>\n",
       "      <td>0.014 (+/- 0.000)</td>\n",
       "    </tr>\n",
       "    <tr>\n",
       "      <th>test_score</th>\n",
       "      <td>0.245 (+/- 0.020)</td>\n",
       "    </tr>\n",
       "    <tr>\n",
       "      <th>train_score</th>\n",
       "      <td>0.257 (+/- 0.006)</td>\n",
       "    </tr>\n",
       "  </tbody>\n",
       "</table>\n",
       "</div>"
      ],
      "text/plain": [
       "                             0\n",
       "fit_time     0.231 (+/- 0.013)\n",
       "score_time   0.014 (+/- 0.000)\n",
       "test_score   0.245 (+/- 0.020)\n",
       "train_score  0.257 (+/- 0.006)"
      ]
     },
     "execution_count": 472,
     "metadata": {},
     "output_type": "execute_result"
    }
   ],
   "source": [
    "# From lecture 2\n",
    "def mean_std_cross_val_scores(model, X_train, y_train, **kwargs):\n",
    "    \"\"\"\n",
    "    Returns mean and std of cross validation\n",
    "    \"\"\"\n",
    "    scores = cross_validate(model, X_train, y_train, **kwargs)\n",
    "\n",
    "    mean_scores = pd.DataFrame(scores).mean()\n",
    "    std_scores = pd.DataFrame(scores).std()\n",
    "    out_col = []\n",
    "\n",
    "    for i in range(len(mean_scores)):\n",
    "        out_col.append((f\"%0.3f (+/- %0.3f)\" % (mean_scores[i], std_scores[i])))\n",
    "\n",
    "    return pd.Series(data=out_col, index=mean_scores.index)\n",
    "\n",
    "#from lecture-7\n",
    "from sklearn.linear_model import Ridge \n",
    "from sklearn.model_selection import cross_val_score, cross_validate\n",
    "pipe = make_pipeline(ct, Ridge())\n",
    "scores =  mean_std_cross_val_scores(pipe, X_train, y_train, return_train_score=True)\n",
    "pd.DataFrame(scores)"
   ]
  },
  {
   "cell_type": "code",
   "execution_count": 473,
   "metadata": {
    "tags": []
   },
   "outputs": [
    {
     "name": "stderr",
     "output_type": "stream",
     "text": [
      "/var/folders/fy/1_r80v9j3s39nw5nw46_dw800000gq/T/ipykernel_54585/924811516.py:13: FutureWarning: Series.__getitem__ treating keys as positions is deprecated. In a future version, integer keys will always be treated as labels (consistent with DataFrame behavior). To access a value by position, use `ser.iloc[pos]`\n",
      "  out_col.append((f\"%0.3f (+/- %0.3f)\" % (mean_scores[i], std_scores[i])))\n",
      "/var/folders/fy/1_r80v9j3s39nw5nw46_dw800000gq/T/ipykernel_54585/924811516.py:13: FutureWarning: Series.__getitem__ treating keys as positions is deprecated. In a future version, integer keys will always be treated as labels (consistent with DataFrame behavior). To access a value by position, use `ser.iloc[pos]`\n",
      "  out_col.append((f\"%0.3f (+/- %0.3f)\" % (mean_scores[i], std_scores[i])))\n",
      "/var/folders/fy/1_r80v9j3s39nw5nw46_dw800000gq/T/ipykernel_54585/924811516.py:13: FutureWarning: Series.__getitem__ treating keys as positions is deprecated. In a future version, integer keys will always be treated as labels (consistent with DataFrame behavior). To access a value by position, use `ser.iloc[pos]`\n",
      "  out_col.append((f\"%0.3f (+/- %0.3f)\" % (mean_scores[i], std_scores[i])))\n",
      "/var/folders/fy/1_r80v9j3s39nw5nw46_dw800000gq/T/ipykernel_54585/924811516.py:13: FutureWarning: Series.__getitem__ treating keys as positions is deprecated. In a future version, integer keys will always be treated as labels (consistent with DataFrame behavior). To access a value by position, use `ser.iloc[pos]`\n",
      "  out_col.append((f\"%0.3f (+/- %0.3f)\" % (mean_scores[i], std_scores[i])))\n",
      "/var/folders/fy/1_r80v9j3s39nw5nw46_dw800000gq/T/ipykernel_54585/924811516.py:13: FutureWarning: Series.__getitem__ treating keys as positions is deprecated. In a future version, integer keys will always be treated as labels (consistent with DataFrame behavior). To access a value by position, use `ser.iloc[pos]`\n",
      "  out_col.append((f\"%0.3f (+/- %0.3f)\" % (mean_scores[i], std_scores[i])))\n",
      "/var/folders/fy/1_r80v9j3s39nw5nw46_dw800000gq/T/ipykernel_54585/924811516.py:13: FutureWarning: Series.__getitem__ treating keys as positions is deprecated. In a future version, integer keys will always be treated as labels (consistent with DataFrame behavior). To access a value by position, use `ser.iloc[pos]`\n",
      "  out_col.append((f\"%0.3f (+/- %0.3f)\" % (mean_scores[i], std_scores[i])))\n",
      "/var/folders/fy/1_r80v9j3s39nw5nw46_dw800000gq/T/ipykernel_54585/924811516.py:13: FutureWarning: Series.__getitem__ treating keys as positions is deprecated. In a future version, integer keys will always be treated as labels (consistent with DataFrame behavior). To access a value by position, use `ser.iloc[pos]`\n",
      "  out_col.append((f\"%0.3f (+/- %0.3f)\" % (mean_scores[i], std_scores[i])))\n",
      "/var/folders/fy/1_r80v9j3s39nw5nw46_dw800000gq/T/ipykernel_54585/924811516.py:13: FutureWarning: Series.__getitem__ treating keys as positions is deprecated. In a future version, integer keys will always be treated as labels (consistent with DataFrame behavior). To access a value by position, use `ser.iloc[pos]`\n",
      "  out_col.append((f\"%0.3f (+/- %0.3f)\" % (mean_scores[i], std_scores[i])))\n",
      "/var/folders/fy/1_r80v9j3s39nw5nw46_dw800000gq/T/ipykernel_54585/924811516.py:13: FutureWarning: Series.__getitem__ treating keys as positions is deprecated. In a future version, integer keys will always be treated as labels (consistent with DataFrame behavior). To access a value by position, use `ser.iloc[pos]`\n",
      "  out_col.append((f\"%0.3f (+/- %0.3f)\" % (mean_scores[i], std_scores[i])))\n"
     ]
    }
   ],
   "source": [
    "scores_dict = {\n",
    "    \"alpha\": 10.0 ** np.arange(-3, 6, 1)\n",
    "    # \"mean_train_scores\": list(),\n",
    "    # \"mean_cv_scores\": list(),\n",
    "}\n",
    "scores = {}\n",
    "for alpha in scores_dict[\"alpha\"]:\n",
    "    pipe_ridge = make_pipeline(ct, Ridge(alpha=alpha))\n",
    "    scores[f\"Ridge alpha={alpha}\"] = mean_std_cross_val_scores(pipe_ridge, X_train, y_train, return_train_score=True)\n",
    "    # scores_dict[\"mean_train_scores\"].append(scores[\"train_score\"].mean())\n",
    "    # scores_dict[\"mean_cv_scores\"].append(scores[\"test_score\"].mean())\n",
    "\n",
    "results_df = pd.DataFrame(scores).T"
   ]
  },
  {
   "cell_type": "code",
   "execution_count": 474,
   "metadata": {
    "tags": []
   },
   "outputs": [
    {
     "data": {
      "text/html": [
       "<div>\n",
       "<style scoped>\n",
       "    .dataframe tbody tr th:only-of-type {\n",
       "        vertical-align: middle;\n",
       "    }\n",
       "\n",
       "    .dataframe tbody tr th {\n",
       "        vertical-align: top;\n",
       "    }\n",
       "\n",
       "    .dataframe thead th {\n",
       "        text-align: right;\n",
       "    }\n",
       "</style>\n",
       "<table border=\"1\" class=\"dataframe\">\n",
       "  <thead>\n",
       "    <tr style=\"text-align: right;\">\n",
       "      <th></th>\n",
       "      <th>fit_time</th>\n",
       "      <th>score_time</th>\n",
       "      <th>test_score</th>\n",
       "      <th>train_score</th>\n",
       "    </tr>\n",
       "  </thead>\n",
       "  <tbody>\n",
       "    <tr>\n",
       "      <th>Ridge alpha=0.001</th>\n",
       "      <td>0.282 (+/- 0.021)</td>\n",
       "      <td>0.014 (+/- 0.000)</td>\n",
       "      <td>0.244 (+/- 0.020)</td>\n",
       "      <td>0.257 (+/- 0.006)</td>\n",
       "    </tr>\n",
       "    <tr>\n",
       "      <th>Ridge alpha=0.01</th>\n",
       "      <td>0.278 (+/- 0.009)</td>\n",
       "      <td>0.014 (+/- 0.001)</td>\n",
       "      <td>0.244 (+/- 0.020)</td>\n",
       "      <td>0.257 (+/- 0.006)</td>\n",
       "    </tr>\n",
       "    <tr>\n",
       "      <th>Ridge alpha=0.1</th>\n",
       "      <td>0.269 (+/- 0.008)</td>\n",
       "      <td>0.014 (+/- 0.001)</td>\n",
       "      <td>0.244 (+/- 0.020)</td>\n",
       "      <td>0.257 (+/- 0.006)</td>\n",
       "    </tr>\n",
       "    <tr>\n",
       "      <th>Ridge alpha=1.0</th>\n",
       "      <td>0.249 (+/- 0.037)</td>\n",
       "      <td>0.015 (+/- 0.001)</td>\n",
       "      <td>0.245 (+/- 0.020)</td>\n",
       "      <td>0.257 (+/- 0.006)</td>\n",
       "    </tr>\n",
       "    <tr>\n",
       "      <th>Ridge alpha=10.0</th>\n",
       "      <td>0.160 (+/- 0.006)</td>\n",
       "      <td>0.013 (+/- 0.000)</td>\n",
       "      <td>0.247 (+/- 0.021)</td>\n",
       "      <td>0.255 (+/- 0.006)</td>\n",
       "    </tr>\n",
       "    <tr>\n",
       "      <th>Ridge alpha=100.0</th>\n",
       "      <td>0.103 (+/- 0.000)</td>\n",
       "      <td>0.014 (+/- 0.001)</td>\n",
       "      <td>0.242 (+/- 0.019)</td>\n",
       "      <td>0.246 (+/- 0.006)</td>\n",
       "    </tr>\n",
       "    <tr>\n",
       "      <th>Ridge alpha=1000.0</th>\n",
       "      <td>0.083 (+/- 0.003)</td>\n",
       "      <td>0.014 (+/- 0.001)</td>\n",
       "      <td>0.229 (+/- 0.017)</td>\n",
       "      <td>0.229 (+/- 0.005)</td>\n",
       "    </tr>\n",
       "    <tr>\n",
       "      <th>Ridge alpha=10000.0</th>\n",
       "      <td>0.068 (+/- 0.001)</td>\n",
       "      <td>0.013 (+/- 0.000)</td>\n",
       "      <td>0.208 (+/- 0.014)</td>\n",
       "      <td>0.207 (+/- 0.004)</td>\n",
       "    </tr>\n",
       "    <tr>\n",
       "      <th>Ridge alpha=100000.0</th>\n",
       "      <td>0.063 (+/- 0.004)</td>\n",
       "      <td>0.013 (+/- 0.000)</td>\n",
       "      <td>0.100 (+/- 0.006)</td>\n",
       "      <td>0.100 (+/- 0.002)</td>\n",
       "    </tr>\n",
       "  </tbody>\n",
       "</table>\n",
       "</div>"
      ],
      "text/plain": [
       "                               fit_time         score_time         test_score  \\\n",
       "Ridge alpha=0.001     0.282 (+/- 0.021)  0.014 (+/- 0.000)  0.244 (+/- 0.020)   \n",
       "Ridge alpha=0.01      0.278 (+/- 0.009)  0.014 (+/- 0.001)  0.244 (+/- 0.020)   \n",
       "Ridge alpha=0.1       0.269 (+/- 0.008)  0.014 (+/- 0.001)  0.244 (+/- 0.020)   \n",
       "Ridge alpha=1.0       0.249 (+/- 0.037)  0.015 (+/- 0.001)  0.245 (+/- 0.020)   \n",
       "Ridge alpha=10.0      0.160 (+/- 0.006)  0.013 (+/- 0.000)  0.247 (+/- 0.021)   \n",
       "Ridge alpha=100.0     0.103 (+/- 0.000)  0.014 (+/- 0.001)  0.242 (+/- 0.019)   \n",
       "Ridge alpha=1000.0    0.083 (+/- 0.003)  0.014 (+/- 0.001)  0.229 (+/- 0.017)   \n",
       "Ridge alpha=10000.0   0.068 (+/- 0.001)  0.013 (+/- 0.000)  0.208 (+/- 0.014)   \n",
       "Ridge alpha=100000.0  0.063 (+/- 0.004)  0.013 (+/- 0.000)  0.100 (+/- 0.006)   \n",
       "\n",
       "                            train_score  \n",
       "Ridge alpha=0.001     0.257 (+/- 0.006)  \n",
       "Ridge alpha=0.01      0.257 (+/- 0.006)  \n",
       "Ridge alpha=0.1       0.257 (+/- 0.006)  \n",
       "Ridge alpha=1.0       0.257 (+/- 0.006)  \n",
       "Ridge alpha=10.0      0.255 (+/- 0.006)  \n",
       "Ridge alpha=100.0     0.246 (+/- 0.006)  \n",
       "Ridge alpha=1000.0    0.229 (+/- 0.005)  \n",
       "Ridge alpha=10000.0   0.207 (+/- 0.004)  \n",
       "Ridge alpha=100000.0  0.100 (+/- 0.002)  "
      ]
     },
     "execution_count": 474,
     "metadata": {},
     "output_type": "execute_result"
    }
   ],
   "source": [
    "results_df"
   ]
  },
  {
   "cell_type": "code",
   "execution_count": 475,
   "metadata": {
    "tags": []
   },
   "outputs": [
    {
     "data": {
      "text/plain": [
       "Ellipsis"
      ]
     },
     "execution_count": 475,
     "metadata": {},
     "output_type": "execute_result"
    }
   ],
   "source": [
    "..."
   ]
  },
  {
   "cell_type": "markdown",
   "metadata": {
    "deletable": false,
    "editable": false
   },
   "source": [
    "<!-- END QUESTION -->\n",
    "\n",
    "<br><br>"
   ]
  },
  {
   "cell_type": "markdown",
   "metadata": {
    "deletable": false,
    "editable": false
   },
   "source": [
    "<!-- BEGIN QUESTION -->\n",
    "\n",
    "## 8. Different models <a name=\"8\"></a>\n",
    "<hr>\n",
    "rubric={points:12}\n",
    "\n",
    "**Your tasks:**\n",
    "1. Try at least 3 other models aside from a linear model. One of these models should be a tree-based ensemble model. \n",
    "2. Summarize your results in terms of overfitting/underfitting and fit and score times. Can you beat a linear model? "
   ]
  },
  {
   "cell_type": "markdown",
   "metadata": {
    "deletable": false,
    "editable": false
   },
   "source": [
    "<div class=\"alert alert-warning\">\n",
    "    \n",
    "Solution_8\n",
    "    \n",
    "</div>\n",
    "\n",
    "_Points:_ 12"
   ]
  },
  {
   "cell_type": "markdown",
   "metadata": {},
   "source": [
    "### Summary\n",
    "\n",
    "#### Random Forest\n",
    "For our random forst model our test score was 0.546, which is not too bad, but this was largely overshadowed by our train score of 0.930. This exhibits large amounts of overfitting indicating the model has not generalized well to new data. Methods to improve this could be cross validation to ensure the model performs well across different subsets of data. The model also took a decent time to run at 20.966 seconds.\n",
    "\n",
    "#### Gradient Boost Regressor\n",
    "Our Gradient boost regressor model was our strongest model with a test score of 0.547 and a train score of 0.555. The closeness of the train and test scores suggest the model is not overfitting and is generalizing well for new data. However, both scores are moderate, this may indicate the model is under-fitting the data as it might be too simple to capture the underlying structure of the data. We could improve the model through optimizing the parameters of n_estimator, learning rate and max depth. \n",
    "\n",
    "#### KNN Neighbours Regressor\n",
    "Our KNN regrssor had a test  score of 0.295 and a train score of 0.651. This indicates the model struggled to generalize to new data and was likely overfitting due to the discrepancy between train and test scores. To imrpove it we could consider parameter tuning (higher values of k) or feature scaling as KNN is sensitive to the scale of features as it relies on distance between datapoints.\n",
    "\n",
    "\n",
    "### Quick Conclusion\n",
    "Ultimately, our gradient boost regressor was able to beat the linear model. We experiemented with the parameters and found we could increase our test score but this was at the cost of fit time. This clearly demonstrated the trade-off between model accuracy and fit time. "
   ]
  },
  {
   "cell_type": "markdown",
   "metadata": {},
   "source": [
    "For our random forest "
   ]
  },
  {
   "cell_type": "markdown",
   "metadata": {
    "tags": []
   },
   "source": [
    "## Random Forest"
   ]
  },
  {
   "cell_type": "code",
   "execution_count": 476,
   "metadata": {
    "tags": []
   },
   "outputs": [
    {
     "name": "stderr",
     "output_type": "stream",
     "text": [
      "/var/folders/fy/1_r80v9j3s39nw5nw46_dw800000gq/T/ipykernel_54585/924811516.py:13: FutureWarning: Series.__getitem__ treating keys as positions is deprecated. In a future version, integer keys will always be treated as labels (consistent with DataFrame behavior). To access a value by position, use `ser.iloc[pos]`\n",
      "  out_col.append((f\"%0.3f (+/- %0.3f)\" % (mean_scores[i], std_scores[i])))\n"
     ]
    },
    {
     "data": {
      "text/html": [
       "<div>\n",
       "<style scoped>\n",
       "    .dataframe tbody tr th:only-of-type {\n",
       "        vertical-align: middle;\n",
       "    }\n",
       "\n",
       "    .dataframe tbody tr th {\n",
       "        vertical-align: top;\n",
       "    }\n",
       "\n",
       "    .dataframe thead th {\n",
       "        text-align: right;\n",
       "    }\n",
       "</style>\n",
       "<table border=\"1\" class=\"dataframe\">\n",
       "  <thead>\n",
       "    <tr style=\"text-align: right;\">\n",
       "      <th></th>\n",
       "      <th>fit_time</th>\n",
       "      <th>score_time</th>\n",
       "      <th>test_score</th>\n",
       "      <th>train_score</th>\n",
       "    </tr>\n",
       "  </thead>\n",
       "  <tbody>\n",
       "    <tr>\n",
       "      <th>0</th>\n",
       "      <td>20.534 (+/- 0.076)</td>\n",
       "      <td>0.068 (+/- 0.014)</td>\n",
       "      <td>0.546 (+/- 0.025)</td>\n",
       "      <td>0.930 (+/- 0.002)</td>\n",
       "    </tr>\n",
       "  </tbody>\n",
       "</table>\n",
       "</div>"
      ],
      "text/plain": [
       "             fit_time         score_time         test_score        train_score\n",
       "0  20.534 (+/- 0.076)  0.068 (+/- 0.014)  0.546 (+/- 0.025)  0.930 (+/- 0.002)"
      ]
     },
     "execution_count": 476,
     "metadata": {},
     "output_type": "execute_result"
    }
   ],
   "source": [
    "#From lecture 11\n",
    "from sklearn.ensemble import RandomForestRegressor\n",
    "rf_regressor = RandomForestRegressor(n_estimators=20, random_state=123)\n",
    "y_imputed_rf = np.ravel(y_train)\n",
    "pipe_rf = make_pipeline(\n",
    "    ct,\n",
    "    rf_regressor,\n",
    ")\n",
    "\n",
    "scores = mean_std_cross_val_scores(\n",
    "    pipe_rf, X_train, y_imputed_rf, return_train_score=True\n",
    ")\n",
    "pd.DataFrame(scores).T"
   ]
  },
  {
   "cell_type": "markdown",
   "metadata": {},
   "source": [
    "## Gradient Boost Regressor"
   ]
  },
  {
   "cell_type": "code",
   "execution_count": 493,
   "metadata": {},
   "outputs": [
    {
     "name": "stderr",
     "output_type": "stream",
     "text": [
      "/var/folders/fy/1_r80v9j3s39nw5nw46_dw800000gq/T/ipykernel_54585/924811516.py:13: FutureWarning: Series.__getitem__ treating keys as positions is deprecated. In a future version, integer keys will always be treated as labels (consistent with DataFrame behavior). To access a value by position, use `ser.iloc[pos]`\n",
      "  out_col.append((f\"%0.3f (+/- %0.3f)\" % (mean_scores[i], std_scores[i])))\n"
     ]
    },
    {
     "data": {
      "text/html": [
       "<div>\n",
       "<style scoped>\n",
       "    .dataframe tbody tr th:only-of-type {\n",
       "        vertical-align: middle;\n",
       "    }\n",
       "\n",
       "    .dataframe tbody tr th {\n",
       "        vertical-align: top;\n",
       "    }\n",
       "\n",
       "    .dataframe thead th {\n",
       "        text-align: right;\n",
       "    }\n",
       "</style>\n",
       "<table border=\"1\" class=\"dataframe\">\n",
       "  <thead>\n",
       "    <tr style=\"text-align: right;\">\n",
       "      <th></th>\n",
       "      <th>fit_time</th>\n",
       "      <th>score_time</th>\n",
       "      <th>test_score</th>\n",
       "      <th>train_score</th>\n",
       "    </tr>\n",
       "  </thead>\n",
       "  <tbody>\n",
       "    <tr>\n",
       "      <th>0</th>\n",
       "      <td>1.080 (+/- 0.059)</td>\n",
       "      <td>0.020 (+/- 0.005)</td>\n",
       "      <td>0.547 (+/- 0.033)</td>\n",
       "      <td>0.555 (+/- 0.009)</td>\n",
       "    </tr>\n",
       "  </tbody>\n",
       "</table>\n",
       "</div>"
      ],
      "text/plain": [
       "            fit_time         score_time         test_score        train_score\n",
       "0  1.080 (+/- 0.059)  0.020 (+/- 0.005)  0.547 (+/- 0.033)  0.555 (+/- 0.009)"
      ]
     },
     "execution_count": 493,
     "metadata": {},
     "output_type": "execute_result"
    }
   ],
   "source": [
    "from sklearn.ensemble import GradientBoostingRegressor\n",
    "\n",
    "# Initialize the Gradient Boosting Regressor\n",
    "gbm = GradientBoostingRegressor(n_estimators=40, learning_rate=0.1, max_depth=3, random_state=42)\n",
    "\n",
    "#pipeline with column-transformer and model\n",
    "pipe_GBR = make_pipeline(\n",
    "    ct,\n",
    "    gbm,\n",
    ")\n",
    "\n",
    "# Evaluate the model\n",
    "scores = mean_std_cross_val_scores(\n",
    "    pipe_GBR, X_train, y_imputed_rf, return_train_score=True\n",
    ")\n",
    "\n",
    "pd.DataFrame(scores).T"
   ]
  },
  {
   "cell_type": "markdown",
   "metadata": {},
   "source": [
    "## KNN Neighbours regressor"
   ]
  },
  {
   "cell_type": "code",
   "execution_count": 478,
   "metadata": {},
   "outputs": [
    {
     "name": "stderr",
     "output_type": "stream",
     "text": [
      "/var/folders/fy/1_r80v9j3s39nw5nw46_dw800000gq/T/ipykernel_54585/924811516.py:13: FutureWarning: Series.__getitem__ treating keys as positions is deprecated. In a future version, integer keys will always be treated as labels (consistent with DataFrame behavior). To access a value by position, use `ser.iloc[pos]`\n",
      "  out_col.append((f\"%0.3f (+/- %0.3f)\" % (mean_scores[i], std_scores[i])))\n"
     ]
    },
    {
     "data": {
      "text/html": [
       "<div>\n",
       "<style scoped>\n",
       "    .dataframe tbody tr th:only-of-type {\n",
       "        vertical-align: middle;\n",
       "    }\n",
       "\n",
       "    .dataframe tbody tr th {\n",
       "        vertical-align: top;\n",
       "    }\n",
       "\n",
       "    .dataframe thead th {\n",
       "        text-align: right;\n",
       "    }\n",
       "</style>\n",
       "<table border=\"1\" class=\"dataframe\">\n",
       "  <thead>\n",
       "    <tr style=\"text-align: right;\">\n",
       "      <th></th>\n",
       "      <th>fit_time</th>\n",
       "      <th>score_time</th>\n",
       "      <th>test_score</th>\n",
       "      <th>train_score</th>\n",
       "    </tr>\n",
       "  </thead>\n",
       "  <tbody>\n",
       "    <tr>\n",
       "      <th>0</th>\n",
       "      <td>0.067 (+/- 0.009)</td>\n",
       "      <td>4.228 (+/- 0.134)</td>\n",
       "      <td>0.297 (+/- 0.038)</td>\n",
       "      <td>0.652 (+/- 0.010)</td>\n",
       "    </tr>\n",
       "  </tbody>\n",
       "</table>\n",
       "</div>"
      ],
      "text/plain": [
       "            fit_time         score_time         test_score        train_score\n",
       "0  0.067 (+/- 0.009)  4.228 (+/- 0.134)  0.297 (+/- 0.038)  0.652 (+/- 0.010)"
      ]
     },
     "execution_count": 478,
     "metadata": {},
     "output_type": "execute_result"
    }
   ],
   "source": [
    "from sklearn.neighbors import KNeighborsRegressor\n",
    "\n",
    "# Create KNN regressor\n",
    "knn = KNeighborsRegressor(n_neighbors=3)\n",
    "\n",
    "#pipeline with column-transformer and model\n",
    "pipe_KNN = make_pipeline(\n",
    "    ct,\n",
    "    knn,\n",
    ")\n",
    "\n",
    "# Evaluate the model\n",
    "scores = mean_std_cross_val_scores(\n",
    "    pipe_KNN, X_train, y_imputed_rf, return_train_score=True\n",
    ")\n",
    "\n",
    "pd.DataFrame(scores).T"
   ]
  },
  {
   "cell_type": "code",
   "execution_count": null,
   "metadata": {},
   "outputs": [],
   "source": []
  },
  {
   "cell_type": "markdown",
   "metadata": {
    "deletable": false,
    "editable": false
   },
   "source": [
    "<!-- END QUESTION -->\n",
    "\n",
    "<br><br>"
   ]
  },
  {
   "cell_type": "markdown",
   "metadata": {
    "deletable": false,
    "editable": false,
    "slideshow": {
     "slide_type": ""
    },
    "tags": []
   },
   "source": [
    "<!-- BEGIN QUESTION -->\n",
    "\n",
    "## (Challenging) 9. Feature selection <a name=\"9\"></a>\n",
    "<hr>\n",
    "rubric={points:2}\n",
    "\n",
    "**Your tasks:**\n",
    "\n",
    "Make some attempts to select relevant features. You may try `RFECV` or forward selection for this. Do the results improve with feature selection? Summarize your results. If you see improvements in the results, keep feature selection in your pipeline. If not, you may abandon it in the next exercises. "
   ]
  },
  {
   "cell_type": "markdown",
   "metadata": {
    "deletable": false,
    "editable": false
   },
   "source": [
    "<div class=\"alert alert-warning\">\n",
    "    \n",
    "Solution_9\n",
    "    \n",
    "</div>\n",
    "\n",
    "_Points:_ 2"
   ]
  },
  {
   "cell_type": "markdown",
   "metadata": {},
   "source": [
    "#### Feature Selection Results\n",
    "\n",
    "Our feature selection managed to reduce the amount of features whilst keeping test score the same at 0.547, train score the same at 0.555 but reducing fit time to 0.827. This shows our feature selection benefitted our model."
   ]
  },
  {
   "cell_type": "code",
   "execution_count": 482,
   "metadata": {},
   "outputs": [
    {
     "name": "stdout",
     "output_type": "stream",
     "text": [
      "Collecting package metadata (current_repodata.json): done\n",
      "Solving environment: done\n",
      "\n",
      "# All requested packages already installed.\n",
      "\n"
     ]
    }
   ],
   "source": [
    "!conda install -c anaconda statsmodels -y"
   ]
  },
  {
   "cell_type": "code",
   "execution_count": 483,
   "metadata": {
    "tags": []
   },
   "outputs": [],
   "source": [
    "\n",
    "import statsmodels.api as sm\n",
    "from sklearn.metrics import mean_squared_error\n",
    "from sklearn.model_selection import train_test_split\n",
    "from sklearn.feature_selection import SelectFromModel\n",
    "# import category_encoders as ce\n",
    "\n"
   ]
  },
  {
   "cell_type": "code",
   "execution_count": 484,
   "metadata": {},
   "outputs": [],
   "source": [
    "X_train_imputed = ct.fit_transform(X_train)\n",
    "X_test_imputed = ct.transform(X_test)"
   ]
  },
  {
   "cell_type": "code",
   "execution_count": 489,
   "metadata": {},
   "outputs": [
    {
     "data": {
      "text/plain": [
       "(34226,)"
      ]
     },
     "execution_count": 489,
     "metadata": {},
     "output_type": "execute_result"
    }
   ],
   "source": [
    "y_test.shape"
   ]
  },
  {
   "cell_type": "code",
   "execution_count": 495,
   "metadata": {
    "tags": []
   },
   "outputs": [
    {
     "name": "stdout",
     "output_type": "stream",
     "text": [
      "(34226, 21) (34226, 18)\n"
     ]
    },
    {
     "name": "stderr",
     "output_type": "stream",
     "text": [
      "/var/folders/fy/1_r80v9j3s39nw5nw46_dw800000gq/T/ipykernel_54585/924811516.py:13: FutureWarning: Series.__getitem__ treating keys as positions is deprecated. In a future version, integer keys will always be treated as labels (consistent with DataFrame behavior). To access a value by position, use `ser.iloc[pos]`\n",
      "  out_col.append((f\"%0.3f (+/- %0.3f)\" % (mean_scores[i], std_scores[i])))\n"
     ]
    },
    {
     "data": {
      "text/html": [
       "<div>\n",
       "<style scoped>\n",
       "    .dataframe tbody tr th:only-of-type {\n",
       "        vertical-align: middle;\n",
       "    }\n",
       "\n",
       "    .dataframe tbody tr th {\n",
       "        vertical-align: top;\n",
       "    }\n",
       "\n",
       "    .dataframe thead th {\n",
       "        text-align: right;\n",
       "    }\n",
       "</style>\n",
       "<table border=\"1\" class=\"dataframe\">\n",
       "  <thead>\n",
       "    <tr style=\"text-align: right;\">\n",
       "      <th></th>\n",
       "      <th>fit_time</th>\n",
       "      <th>score_time</th>\n",
       "      <th>test_score</th>\n",
       "      <th>train_score</th>\n",
       "    </tr>\n",
       "  </thead>\n",
       "  <tbody>\n",
       "    <tr>\n",
       "      <th>0</th>\n",
       "      <td>0.827 (+/- 0.007)</td>\n",
       "      <td>0.004 (+/- 0.000)</td>\n",
       "      <td>0.547 (+/- 0.033)</td>\n",
       "      <td>0.555 (+/- 0.009)</td>\n",
       "    </tr>\n",
       "  </tbody>\n",
       "</table>\n",
       "</div>"
      ],
      "text/plain": [
       "            fit_time         score_time         test_score        train_score\n",
       "0  0.827 (+/- 0.007)  0.004 (+/- 0.000)  0.547 (+/- 0.033)  0.555 (+/- 0.009)"
      ]
     },
     "execution_count": 495,
     "metadata": {},
     "output_type": "execute_result"
    }
   ],
   "source": [
    "\n",
    "gbm.fit(X_train_imputed, y_train)\n",
    "selector = SelectFromModel(gbm, prefit=True, threshold='0.01*mean')\n",
    "X_train_new = selector.transform(X_train_imputed)\n",
    "X_test_new = selector.transform(X_test_imputed)\n",
    "print(X_train.shape, X_train_new.shape)\n",
    "\n",
    "\n",
    "reduced_model = GradientBoostingRegressor(learning_rate=0.1, max_depth=3, n_estimators=40, random_state=42)\n",
    "reduced_model.fit(X_train_new, y_train)\n",
    "\n",
    "# rmse = np.sqrt(mean_squared_error(y_test, reduced_model.predict(X_test_new)))\n",
    "# rmse\n",
    "\n",
    "# scores = mean_std_cross_val_scores(\n",
    "#     pipe_GBR, X_train_new, y_imputed_rf, return_train_score=True\n",
    "# )\n",
    "\n",
    "# pd.DataFrame(scores).T\n",
    "scores = mean_std_cross_val_scores(\n",
    "    reduced_model, X_train_new, y_imputed_rf, return_train_score=True\n",
    ")\n",
    "\n",
    "pd.DataFrame(scores).T"
   ]
  },
  {
   "cell_type": "markdown",
   "metadata": {
    "deletable": false,
    "editable": false
   },
   "source": [
    "<!-- END QUESTION -->\n",
    "\n",
    "<br><br>"
   ]
  },
  {
   "cell_type": "markdown",
   "metadata": {
    "deletable": false,
    "editable": false
   },
   "source": [
    "<!-- BEGIN QUESTION -->\n",
    "\n",
    "## 10. Hyperparameter optimization <a name=\"10\"></a>\n",
    "<hr>\n",
    "rubric={points:10}\n",
    "\n",
    "**Your tasks:**\n",
    "\n",
    "Make some attempts to optimize hyperparameters for the models you've tried and summarize your results. In at least one case you should be optimizing multiple hyperparameters for a single model. You may use `sklearn`'s methods for hyperparameter optimization or fancier Bayesian optimization methods. \n",
    "  - [GridSearchCV](http://scikit-learn.org/stable/modules/generated/sklearn.model_selection.GridSearchCV.html)   \n",
    "  - [RandomizedSearchCV](http://scikit-learn.org/stable/modules/generated/sklearn.model_selection.RandomizedSearchCV.html)\n",
    "  - [scikit-optimize](https://github.com/scikit-optimize/scikit-optimize) "
   ]
  },
  {
   "cell_type": "markdown",
   "metadata": {
    "deletable": false,
    "editable": false
   },
   "source": [
    "<div class=\"alert alert-warning\">\n",
    "    \n",
    "Solution_10\n",
    "    \n",
    "</div>\n",
    "\n",
    "_Points:_ 10"
   ]
  },
  {
   "cell_type": "markdown",
   "metadata": {},
   "source": [
    "_Type your answer here, replacing this text._"
   ]
  },
  {
   "cell_type": "markdown",
   "metadata": {},
   "source": [
    "## GBM Regression\n",
    "\n",
    "Note, when we randomly ran it we got a better value (0.547 test score and 0.554 train score). This could be due to the fact that gridsearch optimizes hyperparameters within the specified grid, and it might be missing better-performing hyperparameters that lie outside of the grid, our paramgrid is stricted by the range as the runtime gets too long if we increase in the ranges of values for each parameter. "
   ]
  },
  {
   "cell_type": "code",
   "execution_count": null,
   "metadata": {
    "tags": []
   },
   "outputs": [],
   "source": [
    "from sklearn.model_selection import GridSearchCV\n",
    "\n",
    "# Define a parameter grid to search\n",
    "param_grid = {\n",
    "    # 'selectkbest__k': [5,10,15],\n",
    "    'gradientboostingregressor__n_estimators': [10, 40, 100],\n",
    "    'gradientboostingregressor__learning_rate': [0.05,0.1],\n",
    "    'gradientboostingregressor__max_depth': [3,4],\n",
    "}\n",
    "\n",
    "\n",
    "# Initialize the GridSearchCV object\n",
    "grid_search = GridSearchCV(pipe_GBR, param_grid, cv=5)\n",
    "\n",
    "# Fit the grid search to the data\n",
    "grid_search.fit(X_train, y_train)\n",
    "\n",
    "# Get the best estimator and its parameters\n",
    "best_pipeline = grid_search.best_estimator_\n",
    "best_params = grid_search.best_params_\n",
    "\n",
    "# Get the cross-validated scores for the best model\n",
    "best_cv_scores = grid_search.cv_results_\n",
    "\n",
    "# Convert the scores into a DataFrame\n",
    "scores_df = pd.DataFrame(best_cv_scores)\n",
    "\n",
    "# Display the best parameters\n",
    "print(\"Best parameters found: \", best_params)\n",
    "\n",
    "\n",
    "\n",
    "scores_df\n",
    "\n"
   ]
  },
  {
   "cell_type": "markdown",
   "metadata": {
    "tags": []
   },
   "source": [
    "## Ridge Linear Regression \n",
    "\n",
    "The optimal regularization strength for the Ridge regression model is alpha = 10.0, which offers the best trade-off between complexity and performance on the training data."
   ]
  },
  {
   "cell_type": "code",
   "execution_count": null,
   "metadata": {
    "tags": []
   },
   "outputs": [],
   "source": [
    "param_grid = {\"ridge__alpha\": 10.0 ** np.arange(-5, 5, 1)}\n",
    "\n",
    "pipe_ridge = make_pipeline(ct, Ridge())\n",
    "\n",
    "search = GridSearchCV(pipe_ridge, param_grid, return_train_score=True, n_jobs=-1)\n",
    "search.fit(X_train, y_train)\n",
    "train_scores = search.cv_results_[\"mean_train_score\"]\n",
    "cv_scores = search.cv_results_[\"mean_test_score\"]\n",
    "plt.semilogx(param_grid[\"ridge__alpha\"], train_scores.tolist(), label=\"train\")\n",
    "plt.semilogx(param_grid[\"ridge__alpha\"], cv_scores.tolist(), label=\"cv\")\n",
    "plt.legend()\n",
    "plt.xlabel(\"alpha\")\n",
    "plt.ylabel(\"score\");\n",
    "best_parameter = search.best_params_\n",
    "print(\"Best parameter: \", best_parameter)\n",
    "best_alpha_ridge = best_parameter"
   ]
  },
  {
   "cell_type": "markdown",
   "metadata": {
    "tags": []
   },
   "source": [
    "### KNN Regression\n",
    "\n",
    "We are running grid search to have find the optimal number of neighbors and the best weigh function for the Kneighbors regressor model based on negative mean squared error.CV was reduced from 5 to 2 to reduce runtime, the range was also reduced from 1,10 to 1,3 for the same reason. "
   ]
  },
  {
   "cell_type": "code",
   "execution_count": null,
   "metadata": {
    "tags": []
   },
   "outputs": [],
   "source": [
    "from sklearn.model_selection import GridSearchCV\n",
    "from sklearn.pipeline import make_pipeline\n",
    "from sklearn.compose import ColumnTransformer\n",
    "\n",
    "# Define a parameter grid to search\n",
    "param_grid = {\n",
    "    'kneighborsregressor__n_neighbors': range(1, 3),\n",
    "    'kneighborsregressor__weights': ['uniform', 'distance']\n",
    "}\n",
    "\n",
    "\n",
    "grid_search = GridSearchCV(pipe_KNN, param_grid, cv=2, scoring='neg_mean_squared_error', n_jobs=-1)\n",
    "\n",
    "\n",
    "grid_search.fit(X_train, y_imputed_rf)\n",
    "\n",
    "\n",
    "best_knn_model = grid_search.best_estimator_\n",
    "best_params = grid_search.best_params_\n",
    "best_score = -grid_search.best_score_  \n",
    "\n",
    "\n",
    "print(f\"Best parameters: {best_params}\")\n",
    "print(f\"Best score (MSE): {best_score}\")\n"
   ]
  },
  {
   "cell_type": "code",
   "execution_count": null,
   "metadata": {
    "tags": []
   },
   "outputs": [],
   "source": [
    "..."
   ]
  },
  {
   "cell_type": "code",
   "execution_count": null,
   "metadata": {
    "tags": []
   },
   "outputs": [],
   "source": [
    "..."
   ]
  },
  {
   "cell_type": "code",
   "execution_count": null,
   "metadata": {
    "tags": []
   },
   "outputs": [],
   "source": [
    "..."
   ]
  },
  {
   "cell_type": "markdown",
   "metadata": {
    "deletable": false,
    "editable": false
   },
   "source": [
    "<!-- END QUESTION -->\n",
    "\n",
    "<br><br>"
   ]
  },
  {
   "cell_type": "markdown",
   "metadata": {
    "deletable": false,
    "editable": false
   },
   "source": [
    "<!-- BEGIN QUESTION -->\n",
    "\n",
    "## 11. Interpretation and feature importances <a name=\"1\"></a>\n",
    "<hr>\n",
    "rubric={points:10}\n",
    "\n",
    "**Your tasks:**\n",
    "\n",
    "1. Use the methods we saw in class (e.g., `eli5`, `shap`) (or any other methods of your choice) to examine the most important features of one of the non-linear models. \n",
    "2. Summarize your observations. "
   ]
  },
  {
   "cell_type": "markdown",
   "metadata": {
    "deletable": false,
    "editable": false
   },
   "source": [
    "<div class=\"alert alert-warning\">\n",
    "    \n",
    "Solution_11\n",
    "    \n",
    "</div>\n",
    "\n",
    "_Points:_ 10"
   ]
  },
  {
   "cell_type": "markdown",
   "metadata": {},
   "source": [
    "We used a gradient boosting machine (GBM) model to calculate feature importances. GBM models create ensembles of decision trees, and the feature names in the importance DataFrame are often derived from the names of the columns in the training data. As a result, we couldn't find the correct names of the features from the model "
   ]
  },
  {
   "cell_type": "code",
   "execution_count": null,
   "metadata": {
    "collapsed": true,
    "jupyter": {
     "outputs_hidden": true
    }
   },
   "outputs": [],
   "source": []
  },
  {
   "cell_type": "code",
   "execution_count": 502,
   "metadata": {},
   "outputs": [
    {
     "data": {
      "text/plain": [
       "['price',\n",
       " 'minimum_nights',\n",
       " 'calculated_host_listings_count',\n",
       " 'availability_365',\n",
       " 'review_year',\n",
       " 'review_month',\n",
       " 'review_day',\n",
       " 'neighbourhood_group',\n",
       " 'neighbourhood',\n",
       " 'room_type',\n",
       " 'price_category',\n",
       " 'minimum_nights_category',\n",
       " 'is_superhost']"
      ]
     },
     "execution_count": 502,
     "metadata": {},
     "output_type": "execute_result"
    }
   ],
   "source": [
    "\n",
    "features = numerical_features + categorical_features + ordinal_features + binary_features\n",
    "features"
   ]
  },
  {
   "cell_type": "code",
   "execution_count": 513,
   "metadata": {
    "scrolled": true
   },
   "outputs": [
    {
     "data": {
      "image/png": "[encoded data removed]",
      "text/plain": [
       "<Figure size 640x480 with 1 Axes>"
      ]
     },
     "metadata": {},
     "output_type": "display_data"
    }
   ],
   "source": [
    "gbm.fit(X_train_imputed, y_train)\n",
    "feature_importance = gbm.feature_importances_\n",
    "\n",
    "sorted_indices = np.argsort(feature_importances)[::-1]\n",
    "\n",
    "# Select the top 10 indices\n",
    "top_indices = sorted_indices[:10]\n",
    "\n",
    "# Select the corresponding feature importances\n",
    "top_importances = feature_importances[top_indices]\n",
    "\n",
    "# Create a bar plot for the top 10 feature importances\n",
    "plt.bar(range(len(top_importances)), top_importances)\n",
    "\n",
    "# Set the x-axis ticks to display feature indices\n",
    "plt.xticks(range(len(top_indices)), top_indices)\n",
    "\n",
    "# Show the plot\n",
    "plt.show()"
   ]
  },
  {
   "cell_type": "code",
   "execution_count": 516,
   "metadata": {},
   "outputs": [
    {
     "data": {
      "text/plain": [
       "236"
      ]
     },
     "execution_count": 516,
     "metadata": {},
     "output_type": "execute_result"
    }
   ],
   "source": []
  },
  {
   "cell_type": "code",
   "execution_count": 519,
   "metadata": {},
   "outputs": [
    {
     "name": "stdout",
     "output_type": "stream",
     "text": [
      "         Feature  Importance\n",
      "4      feature_5    0.298688\n",
      "6      feature_7    0.242461\n",
      "5      feature_6    0.236309\n",
      "1      feature_2    0.126222\n",
      "3      feature_4    0.054766\n",
      "71    feature_72    0.014726\n",
      "2      feature_3    0.010365\n",
      "194  feature_195    0.006551\n",
      "234  feature_235    0.003795\n",
      "202  feature_203    0.002102\n"
     ]
    }
   ],
   "source": [
    "import pandas as pd\n",
    "\n",
    "\n",
    "\n",
    "original_feature_names = list(X_train.columns)\n",
    "\n",
    "# Generate additional feature names for the remaining 215 features\n",
    "additional_feature_names = [f'feature_{i}' for i in range(1, 237)]\n",
    "\n",
    "importance_df = pd.DataFrame({'Feature': additional_feature_names, 'Importance': feature_importance})\n",
    "importance_df.sort_values(by='Importance', ascending=False, inplace=True)\n",
    "\n",
    "# Print the top 10 most important features\n",
    "top_10_features = importance_df.head(10)\n",
    "print(top_10_features)\n"
   ]
  },
  {
   "cell_type": "code",
   "execution_count": null,
   "metadata": {
    "tags": []
   },
   "outputs": [],
   "source": [
    "..."
   ]
  },
  {
   "cell_type": "code",
   "execution_count": null,
   "metadata": {
    "tags": []
   },
   "outputs": [],
   "source": [
    "..."
   ]
  },
  {
   "cell_type": "code",
   "execution_count": null,
   "metadata": {
    "tags": []
   },
   "outputs": [],
   "source": [
    "..."
   ]
  },
  {
   "cell_type": "code",
   "execution_count": null,
   "metadata": {
    "tags": []
   },
   "outputs": [],
   "source": [
    "..."
   ]
  },
  {
   "cell_type": "code",
   "execution_count": null,
   "metadata": {
    "tags": []
   },
   "outputs": [],
   "source": [
    "..."
   ]
  },
  {
   "cell_type": "code",
   "execution_count": null,
   "metadata": {
    "tags": []
   },
   "outputs": [],
   "source": [
    "..."
   ]
  },
  {
   "cell_type": "code",
   "execution_count": null,
   "metadata": {
    "tags": []
   },
   "outputs": [],
   "source": [
    "..."
   ]
  },
  {
   "cell_type": "code",
   "execution_count": null,
   "metadata": {
    "tags": []
   },
   "outputs": [],
   "source": [
    "..."
   ]
  },
  {
   "cell_type": "code",
   "execution_count": null,
   "metadata": {
    "tags": []
   },
   "outputs": [],
   "source": [
    "..."
   ]
  },
  {
   "cell_type": "code",
   "execution_count": null,
   "metadata": {
    "tags": []
   },
   "outputs": [],
   "source": [
    "..."
   ]
  },
  {
   "cell_type": "markdown",
   "metadata": {
    "deletable": false,
    "editable": false
   },
   "source": [
    "<!-- END QUESTION -->\n",
    "\n",
    "<br><br>"
   ]
  },
  {
   "cell_type": "markdown",
   "metadata": {
    "deletable": false,
    "editable": false,
    "tags": []
   },
   "source": [
    "<!-- BEGIN QUESTION -->\n",
    "\n",
    "## 12. Results on the test set <a name=\"12\"></a>\n",
    "<hr>\n",
    "\n",
    "rubric={points:10}\n",
    "\n",
    "**Your tasks:**\n",
    "\n",
    "1. Try your best performing model on the test data and report test scores. \n",
    "2. Do the test scores agree with the validation scores from before? To what extent do you trust your results? Do you think you've had issues with optimization bias? \n",
    "3. Take one or two test predictions and explain these individual predictions (e.g., with SHAP force plots).  "
   ]
  },
  {
   "cell_type": "markdown",
   "metadata": {
    "deletable": false,
    "editable": false
   },
   "source": [
    "<div class=\"alert alert-warning\">\n",
    "    \n",
    "Solution_12\n",
    "    \n",
    "</div>\n",
    "\n",
    "_Points:_ 10"
   ]
  },
  {
   "cell_type": "markdown",
   "metadata": {},
   "source": [
    "1. Our best performing model had a test score 0f 0.547 and a train score of 0.555. It also had a fit time of 0.856.\n",
    "\n",
    "2. The test scores agree with the validation scores from before, this indicates that our model generlizes well to new unseen data. Regarding the extent of trust in the results, it depends on various factors, including the size and quality of the dataset, the robustness of the model, and the thoroughness of the evaluation process. Trust in the results can be increased by using cross-validation, ensuring data preprocessing is appropriate, and validating the model's assumptions. We thing we had some issues with optimization bias as our hyperparameters were fine-tuned on our validation performance (which we eventually reduced for run times sake). To mitigate optimization bias, we made sure to have a separate test set that the model has never seen during the development or tuning process.\n",
    "\n",
    "3. Our shap imports and eli5 imports didnt work. "
   ]
  },
  {
   "cell_type": "code",
   "execution_count": 521,
   "metadata": {
    "tags": []
   },
   "outputs": [
    {
     "name": "stderr",
     "output_type": "stream",
     "text": [
      "/var/folders/fy/1_r80v9j3s39nw5nw46_dw800000gq/T/ipykernel_54585/924811516.py:13: FutureWarning: Series.__getitem__ treating keys as positions is deprecated. In a future version, integer keys will always be treated as labels (consistent with DataFrame behavior). To access a value by position, use `ser.iloc[pos]`\n",
      "  out_col.append((f\"%0.3f (+/- %0.3f)\" % (mean_scores[i], std_scores[i])))\n"
     ]
    },
    {
     "data": {
      "text/html": [
       "<div>\n",
       "<style scoped>\n",
       "    .dataframe tbody tr th:only-of-type {\n",
       "        vertical-align: middle;\n",
       "    }\n",
       "\n",
       "    .dataframe tbody tr th {\n",
       "        vertical-align: top;\n",
       "    }\n",
       "\n",
       "    .dataframe thead th {\n",
       "        text-align: right;\n",
       "    }\n",
       "</style>\n",
       "<table border=\"1\" class=\"dataframe\">\n",
       "  <thead>\n",
       "    <tr style=\"text-align: right;\">\n",
       "      <th></th>\n",
       "      <th>fit_time</th>\n",
       "      <th>score_time</th>\n",
       "      <th>test_score</th>\n",
       "      <th>train_score</th>\n",
       "    </tr>\n",
       "  </thead>\n",
       "  <tbody>\n",
       "    <tr>\n",
       "      <th>0</th>\n",
       "      <td>0.861 (+/- 0.030)</td>\n",
       "      <td>0.004 (+/- 0.000)</td>\n",
       "      <td>0.547 (+/- 0.033)</td>\n",
       "      <td>0.555 (+/- 0.009)</td>\n",
       "    </tr>\n",
       "  </tbody>\n",
       "</table>\n",
       "</div>"
      ],
      "text/plain": [
       "            fit_time         score_time         test_score        train_score\n",
       "0  0.861 (+/- 0.030)  0.004 (+/- 0.000)  0.547 (+/- 0.033)  0.555 (+/- 0.009)"
      ]
     },
     "execution_count": 521,
     "metadata": {},
     "output_type": "execute_result"
    }
   ],
   "source": [
    "reduced_model = GradientBoostingRegressor(learning_rate=0.1, max_depth=3, n_estimators=40, random_state=42)\n",
    "reduced_model.fit(X_train_new, y_train)\n",
    "\n",
    "\n",
    "scores = mean_std_cross_val_scores(\n",
    "    reduced_model, X_train_new, y_imputed_rf, return_train_score=True\n",
    ")\n",
    "\n",
    "pd.DataFrame(scores).T"
   ]
  },
  {
   "cell_type": "code",
   "execution_count": null,
   "metadata": {
    "tags": []
   },
   "outputs": [],
   "source": [
    "..."
   ]
  },
  {
   "cell_type": "code",
   "execution_count": null,
   "metadata": {
    "tags": []
   },
   "outputs": [],
   "source": [
    "..."
   ]
  },
  {
   "cell_type": "code",
   "execution_count": null,
   "metadata": {
    "tags": []
   },
   "outputs": [],
   "source": [
    "..."
   ]
  },
  {
   "cell_type": "code",
   "execution_count": null,
   "metadata": {
    "tags": []
   },
   "outputs": [],
   "source": [
    "..."
   ]
  },
  {
   "cell_type": "code",
   "execution_count": null,
   "metadata": {
    "tags": []
   },
   "outputs": [],
   "source": [
    "..."
   ]
  },
  {
   "cell_type": "code",
   "execution_count": null,
   "metadata": {
    "tags": []
   },
   "outputs": [],
   "source": [
    "..."
   ]
  },
  {
   "cell_type": "code",
   "execution_count": null,
   "metadata": {
    "tags": []
   },
   "outputs": [],
   "source": [
    "..."
   ]
  },
  {
   "cell_type": "code",
   "execution_count": null,
   "metadata": {
    "tags": []
   },
   "outputs": [],
   "source": [
    "..."
   ]
  },
  {
   "cell_type": "markdown",
   "metadata": {
    "deletable": false,
    "editable": false
   },
   "source": [
    "<!-- END QUESTION -->\n",
    "\n",
    "<br><br>"
   ]
  },
  {
   "cell_type": "markdown",
   "metadata": {
    "deletable": false,
    "editable": false
   },
   "source": [
    "<!-- BEGIN QUESTION -->\n",
    "\n",
    "## 13. Summary of results <a name=\"13\"></a>\n",
    "<hr>\n",
    "rubric={points:12}\n",
    "\n",
    "Imagine that you want to present the summary of these results to your boss and co-workers. \n",
    "\n",
    "**Your tasks:**\n",
    "\n",
    "1. Create a table summarizing important results. \n",
    "2. Write concluding remarks.\n",
    "3. Discuss other ideas that you did not try but could potentially improve the performance/interpretability . \n",
    "3. Report your final test score along with the metric you used at the top of this notebook in the [Submission instructions section](#si)."
   ]
  },
  {
   "cell_type": "markdown",
   "metadata": {
    "deletable": false,
    "editable": false
   },
   "source": [
    "<div class=\"alert alert-warning\">\n",
    "    \n",
    "Solution_13\n",
    "    \n",
    "</div>\n",
    "\n",
    "_Points:_ 12"
   ]
  },
  {
   "cell_type": "markdown",
   "metadata": {},
   "source": [
    "### Concluding Remarks (Question 2.)\n",
    "The summarized results show that among the considered models, the Gradient Boosting Regressor has the highest cross-validation score with parameters tuned for optimal performance. The Random Forest Regressor also performed well, but with a large discrepancy between training and test scores, suggesting overfitting.\n",
    "\n",
    "The Ridge Regression, with its alpha set to 10.0, showed the least discrepancy between train and test scores but also the lowest overall test score, indicating it might be underfitting or that the dataset has a non-linear pattern that linear models cannot capture effectively.\n",
    "\n",
    "The KNN Regressor has a relatively low test score compared to the ensemble methods, and a considerable difference between train and test scores, indicating overfitting. Moreover, its score time is substantially higher due to the lazy learning nature of KNN, where the algorithm uses the entire dataset to make predictions.\n",
    "\n",
    "\n",
    "#### Question 3.\n",
    "\n",
    "Data Preprocessing: More sophisticated data preprocessing could be explored, such as feature engineering, selection, or extraction methods (e.g., PCA).\n",
    "\n",
    "Hyperparameter Tuning: A more extensive grid search or randomized search for hyperparameters could yield better-performing models, albeit at the cost of computation time.\n",
    "\n",
    "Ensemble Techniques: Combining the predictions of several models through techniques like stacking or blending might improve overall performance.\n",
    "\n",
    "Feature Importance: Analyzing feature importance and potentially removing non-informative features could simplify the models and potentially increase interpretability without a significant loss in performance.\n",
    "\n",
    "Advanced Algorithms: Trying out more advanced algorithms like XGBoost, LightGBM, or CatBoost, which are more sophisticated gradient boosting algorithms and often perform better.\n",
    "\n",
    "Model Interpretability: Tools such as SHAP or LIME could be used to gain better insight into how model predictions are being made, which could in turn inform additional feature engineering or model selection choices.\n",
    "\n",
    "Cross-Validation Strategy: Different cross-validation strategies, like stratified or time-series splits, could provide insights into model stability across different data segments.\n",
    "\n",
    "Dealing with Imbalanced Data: If the dataset is imbalanced, techniques like SMOTE for oversampling or different evaluation metrics that focus on the minority class could be useful.\n",
    "\n",
    "Deep Learning: For large datasets with complex patterns, deep learning models could be considered, although they require substantial computational resources and may be less interpretable."
   ]
  },
  {
   "cell_type": "code",
   "execution_count": 524,
   "metadata": {
    "tags": []
   },
   "outputs": [
    {
     "name": "stdout",
     "output_type": "stream",
     "text": [
      "                         Model  \\\n",
      "0             Ridge Regression   \n",
      "1      Random Forest Regressor   \n",
      "2  Gradient Boosting Regressor   \n",
      "3                KNN Regressor   \n",
      "\n",
      "                                  Optimal Parameters        Fit Time (s)  \\\n",
      "0                                       alpha = 10.0   0.238 (+/- 0.020)   \n",
      "1                                  n_estimators = 20  20.966 (+/- 0.295)   \n",
      "2  learning_rate = 0.1, max_depth = 4, n_estimato...   1.037 (+/- 0.043)   \n",
      "3                                      Not Specified   0.061 (+/- 0.009)   \n",
      "\n",
      "      Score Time (s)         Test Score        Train Score  \n",
      "0  0.014 (+/- 0.001)  0.244 (+/- 0.021)  0.256 (+/- 0.006)  \n",
      "1  0.064 (+/- 0.012)  0.546 (+/- 0.026)  0.930 (+/- 0.002)  \n",
      "2  0.017 (+/- 0.001)  0.547 (+/- 0.034)  0.554 (+/- 0.009)  \n",
      "3  3.992 (+/- 0.052)  0.295 (+/- 0.041)  0.651 (+/- 0.010)  \n"
     ]
    }
   ],
   "source": [
    "# Question 1\n",
    "data = {\n",
    "    \"Model\": [\n",
    "        \"Ridge Regression\",\n",
    "        \"Random Forest Regressor\",\n",
    "        \"Gradient Boosting Regressor\",\n",
    "        \"KNN Regressor\"\n",
    "    ],\n",
    "    \"Optimal Parameters\": [\n",
    "        \"alpha = 10.0\",\n",
    "        \"n_estimators = 20\",\n",
    "        \"learning_rate = 0.1, max_depth = 4, n_estimators = 100\",\n",
    "        \"Not Specified\"\n",
    "    ],\n",
    "    \"Fit Time (s)\": [\n",
    "        \"0.238 (+/- 0.020)\",\n",
    "        \"20.966 (+/- 0.295)\",\n",
    "        \"1.037 (+/- 0.043)\",\n",
    "        \"0.061 (+/- 0.009)\"\n",
    "    ],\n",
    "    \"Score Time (s)\": [\n",
    "        \"0.014 (+/- 0.001)\",\n",
    "        \"0.064 (+/- 0.012)\",\n",
    "        \"0.017 (+/- 0.001)\",\n",
    "        \"3.992 (+/- 0.052)\"\n",
    "    ],\"Test Score\": [\n",
    "        \"0.244 (+/- 0.021)\",\n",
    "        \"0.546 (+/- 0.026)\",\n",
    "        \"0.547 (+/- 0.034)\",\n",
    "        \"0.295 (+/- 0.041)\"\n",
    "    ],\n",
    "    \"Train Score\": [\n",
    "        \"0.256 (+/- 0.006)\",\n",
    "        \"0.930 (+/- 0.002)\",\n",
    "        \"0.554 (+/- 0.009)\",\n",
    "        \"0.651 (+/- 0.010)\"\n",
    "    ]\n",
    "}\n",
    "\n",
    "results_df = pd.DataFrame(data)\n",
    "print(results_df)"
   ]
  },
  {
   "cell_type": "code",
   "execution_count": null,
   "metadata": {
    "tags": []
   },
   "outputs": [],
   "source": [
    "..."
   ]
  },
  {
   "cell_type": "markdown",
   "metadata": {
    "deletable": false,
    "editable": false
   },
   "source": [
    "<!-- END QUESTION -->\n",
    "\n",
    "<br><br>"
   ]
  },
  {
   "cell_type": "markdown",
   "metadata": {},
   "source": [
    "<br><br>"
   ]
  },
  {
   "cell_type": "markdown",
   "metadata": {
    "deletable": false,
    "editable": false,
    "slideshow": {
     "slide_type": ""
    },
    "tags": []
   },
   "source": [
    "<!-- BEGIN QUESTION -->\n",
    "\n",
    "## (Challenging) 14. Your takeaway <a name=\"15\"></a>\n",
    "<hr>\n",
    "rubric={points:2}\n",
    "\n",
    "**Your tasks:**\n",
    "\n",
    "What is your biggest takeaway from the supervised machine learning material we have learned so far? Please write thoughtful answers.  "
   ]
  },
  {
   "cell_type": "markdown",
   "metadata": {},
   "source": [
    "One significant takeaway from supervised machine learning is the importance of a well-prepared dataset. Data quality, preprocessing, and feature engineering greatly impact model performance. Additionally, understanding and interpreting model outputs, such as feature importance and predictions, are crucial for effective decision-making and trust in the model's results."
   ]
  },
  {
   "cell_type": "markdown",
   "metadata": {
    "deletable": false,
    "editable": false
   },
   "source": [
    "<div class=\"alert alert-warning\">\n",
    "    \n",
    "Solution_14\n",
    "    \n",
    "</div>\n",
    "\n",
    "_Points:_ 2"
   ]
  },
  {
   "cell_type": "markdown",
   "metadata": {
    "deletable": false,
    "editable": false
   },
   "source": [
    "<!-- END QUESTION -->\n",
    "\n",
    "<br><br>"
   ]
  },
  {
   "cell_type": "markdown",
   "metadata": {},
   "source": [
    "**Before submitting your assignment, please make sure you have followed all the instructions in the Submission instructions section at the top.**"
   ]
  },
  {
   "cell_type": "markdown",
   "metadata": {},
   "source": [
    "This was a tricky one but you did it! Have a great weekend! "
   ]
  },
  {
   "cell_type": "markdown",
   "metadata": {},
   "source": [
    "![](img/eva-well-done.png)"
   ]
  }
 ],
 "metadata": {
  "kernelspec": {
   "display_name": "Python (cpsc330)",
   "language": "python",
   "name": "cpsc330"
  },
  "language_info": {
   "codemirror_mode": {
    "name": "ipython",
    "version": 3
   },
   "file_extension": ".py",
   "mimetype": "text/x-python",
   "name": "python",
   "nbconvert_exporter": "python",
   "pygments_lexer": "ipython3",
   "version": "3.10.0"
  },
  "otter": {
   "OK_FORMAT": true,
   "tests": {}
  }
 },
 "nbformat": 4,
 "nbformat_minor": 4
}
